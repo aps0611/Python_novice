{
 "cells": [
  {
   "cell_type": "code",
   "execution_count": 73,
   "id": "5e2828d2",
   "metadata": {},
   "outputs": [
    {
     "name": "stdout",
     "output_type": "stream",
     "text": [
      "<class 'list'>\n",
      "['T', 'T', 'H', 'H', 'T', 'T', 'H', 'H', 'T', 'H', 'T', 'H', 'H', 'T', 'H', 'T', 'H', 'H', 'H', 'H', 'H', 'H', 'T', 'T', 'T', 'H', 'T', 'H', 'H', 'H', 'H', 'H', 'T', 'H', 'H', 'H', 'H', 'H', 'T', 'T', 'H', 'H', 'H', 'T', 'T', 'T', 'H', 'T', 'H', 'H', 'H', 'H', 'T', 'H', 'H', 'T', 'H', 'T', 'T', 'T', 'H', 'H', 'H', 'H', 'H', 'H', 'H', 'H', 'H', 'T', 'T', 'T', 'T', 'H', 'T', 'H', 'T', 'T', 'H', 'H', 'T', 'T', 'H', 'T', 'T', 'H', 'T', 'H', 'T', 'T', 'T', 'T', 'H', 'H', 'T', 'H', 'T', 'T', 'T', 'H']\n",
      "2 0\n"
     ]
    }
   ],
   "source": [
    "#Streak in coin toss:\n",
    "\n",
    "\n",
    "import random\n",
    "\n",
    "final_result=[]\n",
    "print(type(final_result))\n",
    "\n",
    "#Code that calculates the H and T\n",
    "for i in range(100):\n",
    "    a=random.randint(0,1)\n",
    "    if a==1:\n",
    "        result='H'\n",
    "    else:\n",
    "        result='T'\n",
    "    #print(result)\n",
    "    final_result.append(result)\n",
    "\n",
    "print(final_result)\n",
    "\n",
    "#Code that finds out the streak of 6 number or more\n",
    "\n",
    "Hstreak=0\n",
    "total_Hstreak=0\n",
    "for i in final_result:\n",
    "    if i=='H':\n",
    "        Hstreak += 1\n",
    "        #print(Hstreak)\n",
    "        if Hstreak == 6:\n",
    "            total_Hstreak += 1\n",
    "            Hstreak=0\n",
    "    else:\n",
    "        Hstreak=0\n",
    "        \n",
    "Tstreak=0\n",
    "total_Tstreak=0\n",
    "for i in final_result:\n",
    "    if i=='T':\n",
    "        Tstreak += 1\n",
    "        #print(Tstreak)\n",
    "        if Tstreak == 6:\n",
    "            total_Tstreak += 1\n",
    "    else:\n",
    "        Tstreak=0\n",
    "        \n",
    "print(total_Hstreak,total_Tstreak)"
   ]
  }
 ],
 "metadata": {
  "kernelspec": {
   "display_name": "Python 3 (ipykernel)",
   "language": "python",
   "name": "python3"
  },
  "language_info": {
   "codemirror_mode": {
    "name": "ipython",
    "version": 3
   },
   "file_extension": ".py",
   "mimetype": "text/x-python",
   "name": "python",
   "nbconvert_exporter": "python",
   "pygments_lexer": "ipython3",
   "version": "3.9.7"
  }
 },
 "nbformat": 4,
 "nbformat_minor": 5
}
