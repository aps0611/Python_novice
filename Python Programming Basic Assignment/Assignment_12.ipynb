{
 "cells": [
  {
   "cell_type": "markdown",
   "id": "12cac8f4",
   "metadata": {},
   "source": [
    "Python Basic Programming Assignment 12"
   ]
  },
  {
   "cell_type": "markdown",
   "id": "3fcca9a8",
   "metadata": {},
   "source": [
    "# 1.\tWrite a Python program to Extract Unique values dictionary values?"
   ]
  },
  {
   "cell_type": "code",
   "execution_count": 53,
   "id": "1781cf4f",
   "metadata": {},
   "outputs": [
    {
     "name": "stdout",
     "output_type": "stream",
     "text": [
      "So, the dictionary without the duplicate values is {'c': '1', 'b': '2'}\n"
     ]
    }
   ],
   "source": [
    "#So one method can be extract all the values and put them in some variable and then remove duplicates. For this I may need to use multiple loops.\n",
    "\n",
    "test_dict = {'a': '1', 'b': '2', 'c' : '1'}\n",
    "\n",
    "#since dictionary cannot have duplicate keys- best way is to reverse the order of key and value\n",
    "var = {v : k for (k,v) in test_dict.items()}\n",
    "#undo the above step\n",
    "res = {v : k for (k,v) in var.items()}\n",
    "\n",
    "print('So, the dictionary without the duplicate values is',res)"
   ]
  },
  {
   "cell_type": "markdown",
   "id": "18247ea5",
   "metadata": {},
   "source": [
    "# 2.\tWrite a Python program to find the sum of all items in a dictionary?\n"
   ]
  },
  {
   "cell_type": "code",
   "execution_count": 54,
   "id": "acde6799",
   "metadata": {},
   "outputs": [
    {
     "name": "stdout",
     "output_type": "stream",
     "text": [
      "60\n"
     ]
    }
   ],
   "source": [
    "test_dict2 = {'a' : '10', 'b' : '20', 'c' : '30'}\n",
    "\n",
    "sum = 0\n",
    "for i in test_dict2.values():\n",
    "    sum += int(i) \n",
    "\n",
    "print(sum)\n"
   ]
  },
  {
   "cell_type": "markdown",
   "id": "aab79074",
   "metadata": {},
   "source": [
    "# 3.\tWrite a Python program to Merging two Dictionaries?\n"
   ]
  },
  {
   "cell_type": "code",
   "execution_count": 55,
   "id": "8a07baee",
   "metadata": {},
   "outputs": [
    {
     "name": "stdout",
     "output_type": "stream",
     "text": [
      "{'a': '1', 'b': '3', 'c': '4', 'd': '7'}\n"
     ]
    }
   ],
   "source": [
    "test_dict3A = {'a' : '1', 'b' : '3'}\n",
    "test_dict3B = {'c' : '4', 'd' : '7'}\n",
    "\n",
    "#using the update method\n",
    "test_dict3A.update(test_dict3B)\n",
    "print(test_dict3A)\n",
    "\n"
   ]
  },
  {
   "cell_type": "markdown",
   "id": "605971a9",
   "metadata": {},
   "source": [
    "# 4.\tWrite a Python program to convert key-values list to flat dictionary?"
   ]
  },
  {
   "cell_type": "code",
   "execution_count": 56,
   "id": "f7c4dbbd",
   "metadata": {},
   "outputs": [
    {
     "data": {
      "text/plain": [
       "{'car': 'maruti', 'bike': 'cd100', 'mobile': 'moto'}"
      ]
     },
     "execution_count": 56,
     "metadata": {},
     "output_type": "execute_result"
    }
   ],
   "source": [
    "test_dict4 = {'a' : ['car','bike','mobile'], 'b' : ['maruti','cd100','moto'] }\n",
    "\n",
    "\n",
    "#so to flatten here means to link same index pairs in the lsit\n",
    "\n",
    "#This is the new module- zip links \n",
    "from itertools import product\n",
    "\n",
    "dict(zip(test_dict4['a'], test_dict4['b']))\n"
   ]
  },
  {
   "cell_type": "markdown",
   "id": "b2c19594",
   "metadata": {},
   "source": [
    "# 5.\tWrite a Python program to insertion at the beginning in OrderedDict?"
   ]
  },
  {
   "cell_type": "code",
   "execution_count": 57,
   "id": "fc9f5731",
   "metadata": {},
   "outputs": [],
   "source": [
    "from collections import OrderedDict\n",
    "\n",
    "#initialising the ordered Dictionary\n",
    "my_dict = OrderedDict()\n",
    "my_dict[0] = 'this'\n",
    "my_dict[1] = 'is'\n",
    "my_dict[2] = 'my'\n",
    "my_dict[3] = 'order'\n",
    "\n",
    "#Lets insert\n",
    "my_dict.update({'insert': 'new element'})\n",
    "\n",
    "#by default the method will consider the last as False.\n",
    "my_dict.move_to_end('insert',last = False)\n"
   ]
  },
  {
   "cell_type": "code",
   "execution_count": 58,
   "id": "94a371b7",
   "metadata": {},
   "outputs": [
    {
     "data": {
      "text/plain": [
       "OrderedDict([('insert', 'new element'),\n",
       "             (0, 'this'),\n",
       "             (1, 'is'),\n",
       "             (2, 'my'),\n",
       "             (3, 'order')])"
      ]
     },
     "execution_count": 58,
     "metadata": {},
     "output_type": "execute_result"
    }
   ],
   "source": [
    "my_dict"
   ]
  },
  {
   "cell_type": "markdown",
   "id": "9394d2b0",
   "metadata": {},
   "source": [
    "# 6.\tWrite a Python program to check order of character in string using OrderedDict()?\n"
   ]
  },
  {
   "cell_type": "code",
   "execution_count": 59,
   "id": "dccceebe",
   "metadata": {},
   "outputs": [
    {
     "name": "stdout",
     "output_type": "stream",
     "text": [
      "True\n"
     ]
    }
   ],
   "source": [
    "from collections import OrderedDict\n",
    "\n",
    "sample = 'This is it'\n",
    "pattern = 'is'\n",
    "\n",
    "my_ordered_dict = OrderedDict()\n",
    "flag = False\n",
    "for i in sample:\n",
    "    my_ordered_dict[i] = 0\n",
    "\n",
    "j = 0\n",
    "for key, value in my_ordered_dict.items():\n",
    "    if key == pattern[j]:\n",
    "        j += 1\n",
    "    \n",
    "    if j == len(pattern):\n",
    "        flag = True\n",
    "        j = 0\n",
    "\n",
    "\n",
    "print(flag)\n",
    "\n"
   ]
  },
  {
   "cell_type": "code",
   "execution_count": null,
   "id": "64882927",
   "metadata": {},
   "outputs": [],
   "source": []
  },
  {
   "cell_type": "code",
   "execution_count": null,
   "id": "874126b8",
   "metadata": {},
   "outputs": [],
   "source": []
  },
  {
   "cell_type": "markdown",
   "id": "86eb8a70",
   "metadata": {},
   "source": [
    "# 7.\tWrite a Python program to sort Python Dictionaries by Key or Value?\n"
   ]
  },
  {
   "cell_type": "code",
   "execution_count": 29,
   "id": "4543ecdd",
   "metadata": {},
   "outputs": [
    {
     "name": "stdout",
     "output_type": "stream",
     "text": [
      "this is the order: \n",
      "\n",
      "1 this\n",
      "2 is\n",
      "0 my\n",
      "3 order\n",
      "\n",
      " Sorting the keys\n",
      "0 my\n",
      "1 this\n",
      "2 is\n",
      "3 order\n",
      "\n",
      " This is sorted values\n",
      "2 is\n",
      "0 my\n",
      "3 order\n",
      "1 this\n"
     ]
    }
   ],
   "source": [
    "from collections import OrderedDict\n",
    "\n",
    "col_d = OrderedDict()\n",
    "\n",
    "col_d[1] = 'this'\n",
    "col_d[2] = 'is'\n",
    "col_d[0] = 'my'\n",
    "col_d[3] = 'order'\n",
    "\n",
    "print('this is the order: \\n')\n",
    "for key,value in col_d.items():\n",
    "    print(key,value)\n",
    "\n",
    "print('\\n Sorting the keys')\n",
    "for key, value in sorted(col_d.items()):\n",
    "    print(key, value)\n",
    "\n",
    "#to sort the value pair we need to interchange like done in first question:\n",
    "\n",
    "newtemp = {v : k for (k,v) in col_d.items()}\n",
    "newtemp1 = sorted(newtemp.items())\n",
    "newtemp2 = {v : k for (k,v) in newtemp1}\n",
    "#sorted keyword givs us the list output thus no items() method in above command\n",
    "\n",
    "print('\\n This is sorted values')\n",
    "for key,value in newtemp2.items():\n",
    "    print(key, value)\n",
    "\n"
   ]
  },
  {
   "cell_type": "code",
   "execution_count": null,
   "id": "82e5cb75",
   "metadata": {},
   "outputs": [],
   "source": []
  },
  {
   "cell_type": "code",
   "execution_count": null,
   "id": "844513c8",
   "metadata": {},
   "outputs": [],
   "source": []
  }
 ],
 "metadata": {
  "kernelspec": {
   "display_name": "Python 3 (ipykernel)",
   "language": "python",
   "name": "python3"
  },
  "language_info": {
   "codemirror_mode": {
    "name": "ipython",
    "version": 3
   },
   "file_extension": ".py",
   "mimetype": "text/x-python",
   "name": "python",
   "nbconvert_exporter": "python",
   "pygments_lexer": "ipython3",
   "version": "3.9.7"
  }
 },
 "nbformat": 4,
 "nbformat_minor": 5
}
