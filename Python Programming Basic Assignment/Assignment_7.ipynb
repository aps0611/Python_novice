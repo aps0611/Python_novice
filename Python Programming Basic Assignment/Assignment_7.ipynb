{
 "cells": [
  {
   "cell_type": "markdown",
   "id": "af32902c",
   "metadata": {},
   "source": [
    "Python Basic Programming Assignment 7"
   ]
  },
  {
   "cell_type": "markdown",
   "id": "45e0fd71",
   "metadata": {},
   "source": [
    "# 1.\tWrite a Python Program to find sum of array?"
   ]
  },
  {
   "cell_type": "code",
   "execution_count": 9,
   "id": "e3bda538",
   "metadata": {},
   "outputs": [
    {
     "name": "stdout",
     "output_type": "stream",
     "text": [
      "21\n"
     ]
    }
   ],
   "source": [
    "array=[2,3,5,4,7] #array = list\n",
    "sum=0\n",
    "for i in array:\n",
    "    #print(i)\n",
    "    sum=sum+i\n",
    "print(sum)"
   ]
  },
  {
   "cell_type": "raw",
   "id": "424c3f82",
   "metadata": {},
   "source": []
  },
  {
   "cell_type": "markdown",
   "id": "7fe66fbb",
   "metadata": {},
   "source": [
    "# 2.\tWrite a Python Program to find largest element in an array?"
   ]
  },
  {
   "cell_type": "code",
   "execution_count": 16,
   "id": "f25d2509",
   "metadata": {},
   "outputs": [
    {
     "name": "stdout",
     "output_type": "stream",
     "text": [
      "The largest number is 9\n"
     ]
    }
   ],
   "source": [
    "array=[2,5,9,8,4,7,5]\n",
    "x=array[0]\n",
    "\n",
    "for c in array:\n",
    "    #print(c)\n",
    "    if x<c:\n",
    "        x=c\n",
    "\n",
    "print('The largest number is',x)\n"
   ]
  },
  {
   "cell_type": "markdown",
   "id": "80263edc",
   "metadata": {},
   "source": [
    "# 3.\tWrite a Python Program for array rotation?"
   ]
  },
  {
   "cell_type": "code",
   "execution_count": 46,
   "id": "0c488641",
   "metadata": {},
   "outputs": [
    {
     "name": "stdout",
     "output_type": "stream",
     "text": [
      "[6, 7, 1, 2, 3, 4, 5]\n"
     ]
    }
   ],
   "source": [
    "#This Program is to shift the array to Right\n",
    "array=[1,2,3,4,5,6,7]\n",
    "\n",
    "#array rotation means shifting them by an index to left or right\n",
    "#Right shift by 1= 7,1,2,3,4,5,6 (i.e. to remove last element and add it to begining)\n",
    "itr=2  #This is number of shift i want to right\n",
    "t=[]\n",
    "n=0\n",
    "while n!=itr:\n",
    "    t.append(array[len(array)-1])\n",
    "    array.remove(array[len(array)-1])\n",
    "    array=t+array\n",
    "    t=[]\n",
    "    n=n+1\n",
    "\n",
    "print(array)"
   ]
  },
  {
   "cell_type": "code",
   "execution_count": 51,
   "id": "b1589765",
   "metadata": {},
   "outputs": [
    {
     "name": "stdout",
     "output_type": "stream",
     "text": [
      "[3, 4, 5, 6, 7, 1, 2]\n"
     ]
    }
   ],
   "source": [
    "#Program to shift the array to left:\n",
    "array=[1,2,3,4,5,6,7]\n",
    "#Result[2,3,4,5,6,7,1]\n",
    "itr=2 #this is number of shift i need\n",
    "t1=[]\n",
    "n=0\n",
    "while n!=itr:\n",
    "    t1.append(array[0])\n",
    "    array.remove(array[0])\n",
    "    array=array+t1\n",
    "    t1=[]\n",
    "    n=n+1\n",
    "    \n",
    "print(array)"
   ]
  },
  {
   "cell_type": "markdown",
   "id": "161f96a0",
   "metadata": {},
   "source": [
    "# 4.\tWrite a Python Program to Split the array and add the first part to the end?"
   ]
  },
  {
   "cell_type": "code",
   "execution_count": 52,
   "id": "6080a8c1",
   "metadata": {},
   "outputs": [
    {
     "name": "stdout",
     "output_type": "stream",
     "text": [
      "at what index would you like to split?:2\n",
      "[4, 5, 6, 7, 1, 2, 3]\n"
     ]
    }
   ],
   "source": [
    "#I think the program will be same like in the above code: where at itr we need to specify the split index.\n",
    "\n",
    "array=array=[1,2,3,4,5,6,7]\n",
    "split=int(input('After what index would you like to split?:'))\n",
    "itr=split+1\n",
    "\n",
    "t1=[]\n",
    "n=0\n",
    "while n!=itr:\n",
    "    t1.append(array[0])\n",
    "    array.remove(array[0])\n",
    "    array=array+t1\n",
    "    t1=[]\n",
    "    n=n+1\n",
    "    \n",
    "print(array)\n",
    "\n"
   ]
  },
  {
   "cell_type": "markdown",
   "id": "ec9539da",
   "metadata": {},
   "source": [
    "# 5.\tWrite a Python Program to check if given array is Monotonic?"
   ]
  },
  {
   "cell_type": "code",
   "execution_count": 128,
   "id": "acdeea20",
   "metadata": {},
   "outputs": [
    {
     "name": "stdout",
     "output_type": "stream",
     "text": [
      "what is length of elements of your list: 5\n",
      "Enter the 0th index element: 1\n",
      "Enter the 1th index element: 2\n",
      "Enter the 2th index element: 3\n",
      "Enter the 3th index element: 4\n",
      "Enter the 4th index element: 5\n",
      "[1, 2, 3, 4, 5]\n",
      "Its Monotonic Increasing\n"
     ]
    }
   ],
   "source": [
    "#monotonic means its either consistently increasing or consistently decreasing.\n",
    "\n",
    "def monotonic_increasing(array):\n",
    "    flag=False\n",
    "    for i in range(len(array)-1):\n",
    "        #print(i)\n",
    "        if array[i] > array[i+1]:\n",
    "            #print(i)\n",
    "            flag=True\n",
    "            break\n",
    "\n",
    "    if flag == False:\n",
    "        return True\n",
    "\n",
    "def monotonic_decreasing(array):\n",
    "    flag=False\n",
    "    for i in range(len(array)-1):\n",
    "        #print(i)\n",
    "        if array[i] < array[i+1]:\n",
    "            #print(i)\n",
    "            flag=True\n",
    "            break\n",
    "\n",
    "    if flag == False:\n",
    "        return True\n",
    "\n",
    "# Lets take array as input from user for this program:\n",
    "\n",
    "array=[]\n",
    "n=int(input('what is length of elements of your list: '))\n",
    "for i in range(n):\n",
    "    x=int(input(f'Enter the {i}th index element: '))\n",
    "    array.append(x)\n",
    "\n",
    "print(array)\n",
    "\n",
    "if (monotonic_increasing(array) == True or monotonic_decreasing(array)==True):\n",
    "    if (monotonic_increasing(array) == True):\n",
    "        print('Its Monotonic Increasing')\n",
    "    if (monotonic_decreasing(array) == True):\n",
    "        print('Its monotonic and Decreasing')\n",
    "else:\n",
    "    print('Its not Monotonic')\n",
    "\n"
   ]
  },
  {
   "cell_type": "code",
   "execution_count": null,
   "id": "ca8c9137",
   "metadata": {},
   "outputs": [],
   "source": []
  },
  {
   "cell_type": "code",
   "execution_count": 126,
   "id": "041f98b6",
   "metadata": {},
   "outputs": [],
   "source": [
    "'''monotonic_increasing(array)'''"
   ]
  }
 ],
 "metadata": {
  "kernelspec": {
   "display_name": "Python 3 (ipykernel)",
   "language": "python",
   "name": "python3"
  },
  "language_info": {
   "codemirror_mode": {
    "name": "ipython",
    "version": 3
   },
   "file_extension": ".py",
   "mimetype": "text/x-python",
   "name": "python",
   "nbconvert_exporter": "python",
   "pygments_lexer": "ipython3",
   "version": "3.9.7"
  }
 },
 "nbformat": 4,
 "nbformat_minor": 5
}
