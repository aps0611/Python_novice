{
 "cells": [
  {
   "cell_type": "markdown",
   "id": "27771505",
   "metadata": {},
   "source": [
    "Python Programming basic Assignment 9"
   ]
  },
  {
   "cell_type": "markdown",
   "id": "96e326a4",
   "metadata": {},
   "source": [
    "# 1.\tWrite a Python program to check if the given number is a Disarium Number?"
   ]
  },
  {
   "cell_type": "code",
   "execution_count": 51,
   "id": "9bb03a2f",
   "metadata": {},
   "outputs": [
    {
     "name": "stdout",
     "output_type": "stream",
     "text": [
      "Enter the number: 0\n",
      "The number 0 is disarium\n"
     ]
    }
   ],
   "source": [
    "#Disarium Number means any number in the form: 1**1 + 7**2 + 5**3 =175\n",
    "\n",
    "num= int(input('Enter the number: '))\n",
    "n= num\n",
    "n1=len(str(n)) + 1\n",
    "#Seperate the digits and add them with power:\n",
    "sum = 0\n",
    "for i in range(1, n1):\n",
    "    r = n % 10\n",
    "    sum = sum + (r**(n1-i))\n",
    "    n = n//10\n",
    "\n",
    "if sum == num:\n",
    "    print(f'The number {num} is disarium')\n",
    "else:\n",
    "    print('The number is not disarium')\n"
   ]
  },
  {
   "cell_type": "markdown",
   "id": "8d7da166",
   "metadata": {},
   "source": [
    "# 2.\tWrite a Python program to print all disarium numbers between 1 to 100?\n"
   ]
  },
  {
   "cell_type": "code",
   "execution_count": 57,
   "id": "81bf501f",
   "metadata": {},
   "outputs": [
    {
     "name": "stdout",
     "output_type": "stream",
     "text": [
      "The number 0 is disarium\n",
      "The number 1 is disarium\n",
      "The number 2 is disarium\n",
      "The number 3 is disarium\n",
      "The number 4 is disarium\n",
      "The number 5 is disarium\n",
      "The number 6 is disarium\n",
      "The number 7 is disarium\n",
      "The number 8 is disarium\n",
      "The number 9 is disarium\n",
      "The number 10 is not disarium\n",
      "The number 11 is not disarium\n",
      "The number 12 is not disarium\n",
      "The number 13 is not disarium\n",
      "The number 14 is not disarium\n",
      "The number 15 is not disarium\n",
      "The number 16 is not disarium\n",
      "The number 17 is not disarium\n",
      "The number 18 is not disarium\n",
      "The number 19 is not disarium\n",
      "The number 20 is not disarium\n",
      "The number 21 is not disarium\n",
      "The number 22 is not disarium\n",
      "The number 23 is not disarium\n",
      "The number 24 is not disarium\n",
      "The number 25 is not disarium\n",
      "The number 26 is not disarium\n",
      "The number 27 is not disarium\n",
      "The number 28 is not disarium\n",
      "The number 29 is not disarium\n",
      "The number 30 is not disarium\n",
      "The number 31 is not disarium\n",
      "The number 32 is not disarium\n",
      "The number 33 is not disarium\n",
      "The number 34 is not disarium\n",
      "The number 35 is not disarium\n",
      "The number 36 is not disarium\n",
      "The number 37 is not disarium\n",
      "The number 38 is not disarium\n",
      "The number 39 is not disarium\n",
      "The number 40 is not disarium\n",
      "The number 41 is not disarium\n",
      "The number 42 is not disarium\n",
      "The number 43 is not disarium\n",
      "The number 44 is not disarium\n",
      "The number 45 is not disarium\n",
      "The number 46 is not disarium\n",
      "The number 47 is not disarium\n",
      "The number 48 is not disarium\n",
      "The number 49 is not disarium\n",
      "The number 50 is not disarium\n",
      "The number 51 is not disarium\n",
      "The number 52 is not disarium\n",
      "The number 53 is not disarium\n",
      "The number 54 is not disarium\n",
      "The number 55 is not disarium\n",
      "The number 56 is not disarium\n",
      "The number 57 is not disarium\n",
      "The number 58 is not disarium\n",
      "The number 59 is not disarium\n",
      "The number 60 is not disarium\n",
      "The number 61 is not disarium\n",
      "The number 62 is not disarium\n",
      "The number 63 is not disarium\n",
      "The number 64 is not disarium\n",
      "The number 65 is not disarium\n",
      "The number 66 is not disarium\n",
      "The number 67 is not disarium\n",
      "The number 68 is not disarium\n",
      "The number 69 is not disarium\n",
      "The number 70 is not disarium\n",
      "The number 71 is not disarium\n",
      "The number 72 is not disarium\n",
      "The number 73 is not disarium\n",
      "The number 74 is not disarium\n",
      "The number 75 is not disarium\n",
      "The number 76 is not disarium\n",
      "The number 77 is not disarium\n",
      "The number 78 is not disarium\n",
      "The number 79 is not disarium\n",
      "The number 80 is not disarium\n",
      "The number 81 is not disarium\n",
      "The number 82 is not disarium\n",
      "The number 83 is not disarium\n",
      "The number 84 is not disarium\n",
      "The number 85 is not disarium\n",
      "The number 86 is not disarium\n",
      "The number 87 is not disarium\n",
      "The number 88 is not disarium\n",
      "The number 89 is disarium\n",
      "The number 90 is not disarium\n",
      "The number 91 is not disarium\n",
      "The number 92 is not disarium\n",
      "The number 93 is not disarium\n",
      "The number 94 is not disarium\n",
      "The number 95 is not disarium\n",
      "The number 96 is not disarium\n",
      "The number 97 is not disarium\n",
      "The number 98 is not disarium\n",
      "The number 99 is not disarium\n"
     ]
    }
   ],
   "source": [
    "# to check each number in range 1 to 100 now \n",
    "\n",
    "for num in range(100):\n",
    "    n= num\n",
    "    n1=len(str(n)) + 1\n",
    "    #Seperate the digits and add them with power:\n",
    "    sum = 0\n",
    "    for i in range(1, n1):\n",
    "        r = n % 10\n",
    "        sum = sum + (r**(n1-i))\n",
    "        n = n//10\n",
    "\n",
    "    if sum == num:\n",
    "        print(f'The number {num} is disarium')\n",
    "    else:\n",
    "        print(f'The number {num} is not disarium')\n"
   ]
  },
  {
   "cell_type": "markdown",
   "id": "48e30237",
   "metadata": {},
   "source": [
    "# 3.\tWrite a Python program to check if the given number is Happy Number?"
   ]
  },
  {
   "cell_type": "code",
   "execution_count": 13,
   "id": "d1ba3900",
   "metadata": {},
   "outputs": [
    {
     "name": "stdout",
     "output_type": "stream",
     "text": [
      "Enter the number: 13\n",
      "13 is happy number\n"
     ]
    }
   ],
   "source": [
    "#I have defined recursive function here which does the square and sum of digits:\n",
    "def happy(num):\n",
    "    if len(str(num)) == 1:\n",
    "        return num**2\n",
    "    else:\n",
    "        r= num%10\n",
    "        return happy(num//10) + r**2\n",
    "\n",
    "\n",
    "num=int(input('Enter the number: '))\n",
    "ans = num\n",
    "\n",
    "#here if we keep only ans!=1 then the loop will not break and we may face issue. Also if no. is non-happy we get repeated 4\n",
    "while ans != 1 and ans !=4 :\n",
    "    ans = happy(ans)\n",
    "\n",
    "if ans == 1:\n",
    "    print(f'{num} is happy number')\n",
    "\n",
    "if ans == 4:\n",
    "    print(f'{num} is not happy number')\n",
    "\n",
    "\n"
   ]
  },
  {
   "cell_type": "markdown",
   "id": "045cf326",
   "metadata": {},
   "source": [
    "# 4.\tWrite a Python program to print all happy numbers between 1 and 100?"
   ]
  },
  {
   "cell_type": "code",
   "execution_count": 1,
   "id": "1d887c41",
   "metadata": {},
   "outputs": [
    {
     "name": "stdout",
     "output_type": "stream",
     "text": [
      "1 is happy number\n",
      "2 is not happy number\n",
      "3 is not happy number\n",
      "4 is not happy number\n",
      "5 is not happy number\n",
      "6 is not happy number\n",
      "7 is happy number\n",
      "8 is not happy number\n",
      "9 is not happy number\n",
      "10 is happy number\n",
      "11 is not happy number\n",
      "12 is not happy number\n",
      "13 is happy number\n",
      "14 is not happy number\n",
      "15 is not happy number\n",
      "16 is not happy number\n",
      "17 is not happy number\n",
      "18 is not happy number\n",
      "19 is happy number\n",
      "20 is not happy number\n",
      "21 is not happy number\n",
      "22 is not happy number\n",
      "23 is happy number\n",
      "24 is not happy number\n",
      "25 is not happy number\n",
      "26 is not happy number\n",
      "27 is not happy number\n",
      "28 is happy number\n",
      "29 is not happy number\n",
      "30 is not happy number\n",
      "31 is happy number\n",
      "32 is happy number\n",
      "33 is not happy number\n",
      "34 is not happy number\n",
      "35 is not happy number\n",
      "36 is not happy number\n",
      "37 is not happy number\n",
      "38 is not happy number\n",
      "39 is not happy number\n",
      "40 is not happy number\n",
      "41 is not happy number\n",
      "42 is not happy number\n",
      "43 is not happy number\n",
      "44 is happy number\n",
      "45 is not happy number\n",
      "46 is not happy number\n",
      "47 is not happy number\n",
      "48 is not happy number\n",
      "49 is happy number\n",
      "50 is not happy number\n",
      "51 is not happy number\n",
      "52 is not happy number\n",
      "53 is not happy number\n",
      "54 is not happy number\n",
      "55 is not happy number\n",
      "56 is not happy number\n",
      "57 is not happy number\n",
      "58 is not happy number\n",
      "59 is not happy number\n",
      "60 is not happy number\n",
      "61 is not happy number\n",
      "62 is not happy number\n",
      "63 is not happy number\n",
      "64 is not happy number\n",
      "65 is not happy number\n",
      "66 is not happy number\n",
      "67 is not happy number\n",
      "68 is happy number\n",
      "69 is not happy number\n",
      "70 is happy number\n",
      "71 is not happy number\n",
      "72 is not happy number\n",
      "73 is not happy number\n",
      "74 is not happy number\n",
      "75 is not happy number\n",
      "76 is not happy number\n",
      "77 is not happy number\n",
      "78 is not happy number\n",
      "79 is happy number\n",
      "80 is not happy number\n",
      "81 is not happy number\n",
      "82 is happy number\n",
      "83 is not happy number\n",
      "84 is not happy number\n",
      "85 is not happy number\n",
      "86 is happy number\n",
      "87 is not happy number\n",
      "88 is not happy number\n",
      "89 is not happy number\n",
      "90 is not happy number\n",
      "91 is happy number\n",
      "92 is not happy number\n",
      "93 is not happy number\n",
      "94 is happy number\n",
      "95 is not happy number\n",
      "96 is not happy number\n",
      "97 is happy number\n",
      "98 is not happy number\n",
      "99 is not happy number\n"
     ]
    }
   ],
   "source": [
    "def happy(num):\n",
    "    if len(str(num)) == 1:\n",
    "        return num**2\n",
    "    else:\n",
    "        r= num%10\n",
    "        return happy(num//10) + r**2\n",
    "\n",
    "\n",
    "for num in range(1,100):\n",
    "    ans = num\n",
    "\n",
    "    #here if we keep only ans!=1 then the loop will not break and we may face issue. Also if no. is non-happy we get repeated 4\n",
    "    while ans != 1 and ans !=4 :\n",
    "        ans = happy(ans)\n",
    "\n",
    "    if ans == 1:\n",
    "        print(f'{num} is happy number')\n",
    "\n",
    "    if ans == 4:\n",
    "        print(f'{num} is not happy number')\n"
   ]
  },
  {
   "cell_type": "markdown",
   "id": "0ccea007",
   "metadata": {},
   "source": [
    "# 5.\tWrite a Python program to determine whether the given number is a Harshad Number?\n"
   ]
  },
  {
   "cell_type": "code",
   "execution_count": 9,
   "id": "e719f07f",
   "metadata": {},
   "outputs": [
    {
     "name": "stdout",
     "output_type": "stream",
     "text": [
      "Enter the number: 1\n",
      "1 is harshad number\n"
     ]
    }
   ],
   "source": [
    "#If the number is divisible by the sum of its digits then it is called as Harshad number:\n",
    "\n",
    "try:\n",
    "    num = int(input('Enter the number: '))\n",
    "    ans = num\n",
    "    sm = 0\n",
    "    for i in range(len(str(num))):\n",
    "      r = ans%10\n",
    "      sm = sm + r\n",
    "      ans = ans//10\n",
    "\n",
    "    if num%sm == 0:\n",
    "      print(f'{num} is harshad number')\n",
    "    else:\n",
    "      print(f'{num} is not harshad number')\n",
    "except ZeroDivisionError:\n",
    "    print('Its a Zero error')\n",
    "\n"
   ]
  },
  {
   "cell_type": "markdown",
   "id": "72cd329f",
   "metadata": {},
   "source": [
    "# 6.\tWrite a Python program to print all pronic numbers between 1 and 100?"
   ]
  },
  {
   "cell_type": "code",
   "execution_count": 1,
   "id": "e7c54366",
   "metadata": {},
   "outputs": [
    {
     "name": "stdout",
     "output_type": "stream",
     "text": [
      "[0, 2, 6, 12, 20, 30, 42, 56, 72, 90]\n"
     ]
    }
   ],
   "source": [
    "#0,2,6,12,20.....\n",
    "'''0 * 1 = 0\n",
    "1 * 2 = 2\n",
    "2 * 3 = 6\n",
    "3 * 4 = 12\n",
    "i * j = ans\n",
    "'''\n",
    "\n",
    "lt = []\n",
    "num = 0\n",
    "i = 0\n",
    "range = 100\n",
    "while num < range:\n",
    "    j = i + 1\n",
    "    #print(i,j)\n",
    "    num = i * j\n",
    "    \n",
    "    if num < range:\n",
    "      lt.append(num)\n",
    "    \n",
    "    i = i + 1\n",
    "\n",
    "print(lt)\n",
    "        \n"
   ]
  },
  {
   "cell_type": "code",
   "execution_count": null,
   "id": "7357c09a",
   "metadata": {},
   "outputs": [],
   "source": []
  },
  {
   "cell_type": "code",
   "execution_count": null,
   "id": "4983870e",
   "metadata": {},
   "outputs": [],
   "source": []
  }
 ],
 "metadata": {
  "kernelspec": {
   "display_name": "Python 3 (ipykernel)",
   "language": "python",
   "name": "python3"
  },
  "language_info": {
   "codemirror_mode": {
    "name": "ipython",
    "version": 3
   },
   "file_extension": ".py",
   "mimetype": "text/x-python",
   "name": "python",
   "nbconvert_exporter": "python",
   "pygments_lexer": "ipython3",
   "version": "3.9.7"
  }
 },
 "nbformat": 4,
 "nbformat_minor": 5
}
