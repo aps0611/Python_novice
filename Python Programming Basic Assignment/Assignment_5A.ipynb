{
 "cells": [
  {
   "cell_type": "markdown",
   "id": "bc3e9e72",
   "metadata": {},
   "source": [
    "Assignment_5 "
   ]
  },
  {
   "cell_type": "markdown",
   "id": "3da5c1d7",
   "metadata": {},
   "source": [
    "# 1. Write a Python Program to Find LCM? (for 2 numbers)"
   ]
  },
  {
   "cell_type": "code",
   "execution_count": 6,
   "id": "76eb110c",
   "metadata": {},
   "outputs": [
    {
     "name": "stdout",
     "output_type": "stream",
     "text": [
      "First Number: 24\n",
      "Second Number: 36\n",
      "The LCM of two numbers is  72.0\n"
     ]
    }
   ],
   "source": [
    "n1 = int(input('First Number: '))\n",
    "n2 = int(input('Second Number: '))\n",
    "\n",
    "factorsn1 = []\n",
    "for i in range(2,n1+1):\n",
    "    if n1%i==0:\n",
    "        factorsn1.append(i)\n",
    "\n",
    "factorsn2 = []\n",
    "for i in range(2,n2+1):\n",
    "    if n2%i==0:\n",
    "        factorsn2.append(i)\n",
    "\n",
    "\n",
    "factorsn1 = set(factorsn1)\n",
    "\n",
    "factorsn2 = set(factorsn2)\n",
    "\n",
    "intersection = factorsn1&factorsn2\n",
    "\n",
    "x1=max(intersection)\n",
    "\n",
    "LCM=(n1*n2)/(x1)\n",
    "print('The LCM of two numbers is ',LCM)\n",
    "\n"
   ]
  },
  {
   "cell_type": "markdown",
   "id": "fa6c8766",
   "metadata": {},
   "source": [
    "# 2. Write a Python Program to Find HCF?¶ (for n numbers)"
   ]
  },
  {
   "cell_type": "code",
   "execution_count": 7,
   "id": "f09231ed",
   "metadata": {},
   "outputs": [
    {
     "name": "stdout",
     "output_type": "stream",
     "text": [
      "For how many numbers do you want to calculate HCF?: 3\n",
      "Enter the number: 24\n",
      "Enter the number: 48\n",
      "Enter the number: 96\n",
      "24 this is tha hcf\n"
     ]
    }
   ],
   "source": [
    "def fact(num): #this function will find all the factors\n",
    "    factor=[]\n",
    "    for i in range(2,num+1):\n",
    "        if num%i==0:\n",
    "            factor.append(i)\n",
    "    return set(factor)\n",
    "\n",
    "itr=int(input('For how many numbers do you want to calculate HCF?: ')) #lets say 2\n",
    "k=0\n",
    "l=[]\n",
    "multi=1\n",
    "while(k<itr):\n",
    "    num=int(input('Enter the number: '))\n",
    "    l.append(fact(num))\n",
    "    k=k+1\n",
    "\n",
    "\n",
    "common = l[0].intersection(l[1])\n",
    "# print(max(common))\n",
    "for i in range(len(l)):\n",
    "    if len(l)>=3:\n",
    "        \n",
    "        for i in range(2,itr):\n",
    "            common = common.intersection(l[i])\n",
    "        \n",
    "print(max(common),\"this is tha hcf\")\n",
    "\n"
   ]
  },
  {
   "cell_type": "markdown",
   "id": "bd635b21",
   "metadata": {},
   "source": [
    "# 3.\tWrite a Python Program to Convert Decimal to Binary, Octal and Hexadecimal?"
   ]
  },
  {
   "cell_type": "code",
   "execution_count": 80,
   "id": "56510753",
   "metadata": {},
   "outputs": [
    {
     "name": "stdout",
     "output_type": "stream",
     "text": [
      "Please enter the number: 100\n",
      "The Binary is:  1100100\n",
      "The Octa is:  144\n",
      "The Hexa is:  64\n"
     ]
    }
   ],
   "source": [
    "#Decimal to binary:\n",
    "\n",
    "def DtoB(num):\n",
    "    ans=''\n",
    "    \n",
    "    while(num>=1):\n",
    "        ans=ans+str(num%2)\n",
    "        num=num//2\n",
    "    \n",
    "    return int(ans[::-1])\n",
    "\n",
    "\n",
    "#Decimal to Octal\n",
    "\n",
    "def DtoO(num):\n",
    "    ans=''\n",
    "    while(num>=1):\n",
    "        ans=ans+str(num%8)\n",
    "        num=num//8\n",
    "    return int(ans[::-1])\n",
    "\n",
    "#Decimal to hexadecimal\n",
    "\n",
    "def DtoH(num):\n",
    "    table={0:'0',1:'1',2:'2',3:'3',4:'4',5:'5',6:'6',7:'7',8:'8',9:'9',10:'A',11:'B',12:'C',13:'D',14:'E',15:'F'}\n",
    "    ans=''\n",
    "    while(num>=1):\n",
    "        ans=ans+table[num%16]\n",
    "        num=num//16\n",
    "    return ans[::-1]\n",
    "\n",
    "n9=int(input('Please enter the number: '))\n",
    "if n9== 0:\n",
    "    print('The Binary octa and hexa is 0')\n",
    "else:\n",
    "    print('The Binary is: ',DtoB(n9))\n",
    "    print('The Octa is: ',DtoO(n9))\n",
    "    print('The Hexa is: ',DtoH(n9))"
   ]
  },
  {
   "cell_type": "code",
   "execution_count": 91,
   "id": "474fe4f0",
   "metadata": {},
   "outputs": [],
   "source": [
    "#DtoO(1228)"
   ]
  },
  {
   "cell_type": "markdown",
   "id": "523efc08",
   "metadata": {},
   "source": [
    "# 4.\tWrite a Python Program To Find ASCII value of a character?"
   ]
  },
  {
   "cell_type": "code",
   "execution_count": 84,
   "id": "f666ee88",
   "metadata": {},
   "outputs": [
    {
     "name": "stdout",
     "output_type": "stream",
     "text": [
      "Please enter the character to find ascii: A\n",
      "65\n"
     ]
    }
   ],
   "source": [
    "character= input('Please enter the character to find ascii: ')\n",
    "asce= ord(character)\n",
    "print(asce)\n",
    "\n",
    "#to find character from asce use chr(65) we get A"
   ]
  },
  {
   "cell_type": "markdown",
   "id": "416092d6",
   "metadata": {},
   "source": [
    "# 5.\tWrite a Python Program to Make a Simple Calculator with 4 basic mathematical operations?"
   ]
  },
  {
   "cell_type": "code",
   "execution_count": 90,
   "id": "0a34c22d",
   "metadata": {},
   "outputs": [
    {
     "name": "stdout",
     "output_type": "stream",
     "text": [
      "what would you like to do= \n",
      "1. Addition \n",
      "2. Subtraction \n",
      "3. Multiplication \n",
      "4. Division \n",
      "Enter 1 or 2 or 3 or 4 or Exit: 8\n",
      "Enter 1 or 2 or 3 or 4 or Exit: 9\n",
      "If continue- Enter 1 or 2 or 3 or 4 or Exit: 1\n",
      "Enter 1st number: 12\n",
      "Enter 2st number: 21\n",
      "Addition= 33\n",
      "If continue- Enter 1 or 2 or 3 or 4 or Exit: 2\n",
      "Enter 1st number: 21\n",
      "Enter 2st number: 10\n",
      "Subtraction= 11\n",
      "If continue- Enter 1 or 2 or 3 or 4 or Exit: Exit\n"
     ]
    }
   ],
   "source": [
    "def add(a,b):\n",
    "    c= a+b\n",
    "    return c\n",
    "\n",
    "def sub(a,b):\n",
    "    c= a-b\n",
    "    return c\n",
    "\n",
    "def mul(a,b):\n",
    "    c=a*b\n",
    "    return c\n",
    "\n",
    "def div(a,b):\n",
    "    c=a/b\n",
    "    return c\n",
    "\n",
    "print(\"what would you like to do= \\n1. Addition \\n2. Subtraction \\n3. Multiplication \\n4. Division \")\n",
    "user=input('Enter 1 or 2 or 3 or 4 or Exit: ')\n",
    "while(user!='Exit'):\n",
    "    \n",
    "    if user=='1':\n",
    "        x1=int(input('Enter 1st number: '))\n",
    "        y1=int(input('Enter 2st number: '))\n",
    "        print('Addition=',add(x1,y1))\n",
    "    elif user == '2':\n",
    "        x1=int(input('Enter 1st number: '))\n",
    "        y1=int(input('Enter 2st number: '))\n",
    "        print('Subtraction=',sub(x1,y1))\n",
    "    elif user == '3':\n",
    "        x1=int(input('Enter 1st number: '))\n",
    "        y1=int(input('Enter 2st number: '))\n",
    "        print('Multiplication=',mul(x1,y1))\n",
    "    elif user == '4':\n",
    "        x1=int(input('Enter 1st number: '))\n",
    "        y1=int(input('Enter 2st number: '))\n",
    "        print('Division=',div(x1,y1))\n",
    "    else:\n",
    "        user=input('Enter 1 or 2 or 3 or 4 or Exit: ')\n",
    "    user=input('If continue- Enter 1 or 2 or 3 or 4 or Exit: ')\n",
    "\n"
   ]
  },
  {
   "cell_type": "code",
   "execution_count": null,
   "id": "6a921ed3",
   "metadata": {},
   "outputs": [],
   "source": []
  }
 ],
 "metadata": {
  "kernelspec": {
   "display_name": "Python 3 (ipykernel)",
   "language": "python",
   "name": "python3"
  },
  "language_info": {
   "codemirror_mode": {
    "name": "ipython",
    "version": 3
   },
   "file_extension": ".py",
   "mimetype": "text/x-python",
   "name": "python",
   "nbconvert_exporter": "python",
   "pygments_lexer": "ipython3",
   "version": "3.9.7"
  }
 },
 "nbformat": 4,
 "nbformat_minor": 5
}
