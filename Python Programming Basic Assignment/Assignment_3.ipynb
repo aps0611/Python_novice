{
 "cells": [
  {
   "cell_type": "markdown",
   "id": "756bee9e",
   "metadata": {},
   "source": [
    "\n",
    "\n",
    "Python Basic Programming Assignment no. 3\n",
    "\n",
    "\n"
   ]
  },
  {
   "cell_type": "markdown",
   "id": "abb076fc",
   "metadata": {},
   "source": [
    "# 1.\tWrite a Python Program to Check if a Number is Positive, Negative or Zero?"
   ]
  },
  {
   "cell_type": "code",
   "execution_count": 8,
   "id": "b10f2ed6",
   "metadata": {},
   "outputs": [
    {
     "name": "stdout",
     "output_type": "stream",
     "text": [
      "Enter the number(Integer): 0\n",
      "zero is hero\n"
     ]
    }
   ],
   "source": [
    "num= int(input('Enter the number(Integer): '))\n",
    "if num > 0 :\n",
    "    print('Hola, you have a positive number')\n",
    "elif num < 0:\n",
    "    print('yo yo, you have a negative number')\n",
    "else:\n",
    "    print('zero is hero')"
   ]
  },
  {
   "cell_type": "markdown",
   "id": "0cce8fef",
   "metadata": {},
   "source": [
    "# 2.\tWrite a Python Program to Check if a Number is Odd or Even?"
   ]
  },
  {
   "cell_type": "code",
   "execution_count": 4,
   "id": "e4d716e5",
   "metadata": {},
   "outputs": [
    {
     "name": "stdout",
     "output_type": "stream",
     "text": [
      "Enter the number-9\n",
      "the number -9 is Odd\n"
     ]
    }
   ],
   "source": [
    "num=int(input('Enter the number'))\n",
    "#if number is even that means its modulous must be zero\n",
    "if num%2 == 0:\n",
    "    print(f'the number {num} is Even')\n",
    "else:\n",
    "    print(f'the number {num} is Odd')"
   ]
  },
  {
   "cell_type": "markdown",
   "id": "61d2cdb6",
   "metadata": {},
   "source": [
    "# 3.\tWrite a Python Program to Check Leap Year?"
   ]
  },
  {
   "cell_type": "code",
   "execution_count": 1,
   "id": "6ec7aadf",
   "metadata": {},
   "outputs": [
    {
     "name": "stdout",
     "output_type": "stream",
     "text": [
      "Enter Year: 2000\n",
      "its a leap year- 2000\n"
     ]
    }
   ],
   "source": [
    "year=int(input('Enter Year: '))\n",
    "\n",
    "while year%4 != 0 :\n",
    "  year=int(input('Enter again: '))\n",
    "\n",
    "print('its a leap year-',year)\n",
    "\n",
    "    "
   ]
  },
  {
   "cell_type": "markdown",
   "id": "4b8ad638",
   "metadata": {},
   "source": [
    "# 4.\tWrite a Python Program to Check Prime Number?"
   ]
  },
  {
   "cell_type": "code",
   "execution_count": 21,
   "id": "6deda65c",
   "metadata": {},
   "outputs": [
    {
     "name": "stdout",
     "output_type": "stream",
     "text": [
      "Enter the number:7\n",
      "is a prime number\n"
     ]
    }
   ],
   "source": [
    "#lets say we take n as input\n",
    "n=int(input('Enter the number:'))\n",
    "flag=0\n",
    "\n",
    "if n>1:#as 1 is not prime\n",
    "    for i in range(2,n):#we have to divide n by n-1 till 2\n",
    "        x=n%i\n",
    "        if x == 0:\n",
    "            flag=True #if even one number divides the flag will turn red.\n",
    "            break\n",
    "\n",
    "if flag:\n",
    "    print('not a prime number')\n",
    "else:\n",
    "    print('is a prime number')"
   ]
  },
  {
   "cell_type": "markdown",
   "id": "835fd4ec",
   "metadata": {},
   "source": [
    "# 5.\tWrite a Python Program to Print all Prime Numbers in an Interval of 1-10000?"
   ]
  },
  {
   "cell_type": "code",
   "execution_count": 4,
   "id": "641f3818",
   "metadata": {},
   "outputs": [
    {
     "name": "stdout",
     "output_type": "stream",
     "text": [
      "Enter the min: 1\n",
      "Enter the max: 100\n",
      "2\n",
      "3\n",
      "5\n",
      "7\n",
      "11\n",
      "13\n",
      "17\n",
      "19\n",
      "23\n",
      "29\n",
      "31\n",
      "37\n",
      "41\n",
      "43\n",
      "47\n",
      "53\n",
      "59\n",
      "61\n",
      "67\n",
      "71\n",
      "73\n",
      "79\n",
      "83\n",
      "89\n",
      "97\n"
     ]
    }
   ],
   "source": [
    "#here i have the range as input\n",
    "min=int(input('Enter the min: '))\n",
    "max=int(input('Enter the max: '))\n",
    "#now take one num at a time in range\n",
    "\n",
    "for num in range(min,max):\n",
    "    #lets say if we have to find out the prime number then 1 is never the prime so if\n",
    "    \n",
    "    \n",
    "    if num>1:\n",
    "        #for each number now from 2 to max i.e num i need to iterate:\n",
    "        \n",
    "        for i in range(2,num):\n",
    "            \n",
    "            if num%i == 0:\n",
    "                #this means that no. is not prime\n",
    "                break #since no use of iterating now\n",
    "        \n",
    "        else:\n",
    "            print(num)\n",
    "\n",
    "    \n",
    "\n",
    "\n"
   ]
  },
  {
   "cell_type": "code",
   "execution_count": null,
   "id": "8cb027bc",
   "metadata": {},
   "outputs": [],
   "source": []
  },
  {
   "cell_type": "code",
   "execution_count": null,
   "id": "a9a21abe",
   "metadata": {},
   "outputs": [],
   "source": []
  }
 ],
 "metadata": {
  "kernelspec": {
   "display_name": "Python 3 (ipykernel)",
   "language": "python",
   "name": "python3"
  },
  "language_info": {
   "codemirror_mode": {
    "name": "ipython",
    "version": 3
   },
   "file_extension": ".py",
   "mimetype": "text/x-python",
   "name": "python",
   "nbconvert_exporter": "python",
   "pygments_lexer": "ipython3",
   "version": "3.9.7"
  }
 },
 "nbformat": 4,
 "nbformat_minor": 5
}
