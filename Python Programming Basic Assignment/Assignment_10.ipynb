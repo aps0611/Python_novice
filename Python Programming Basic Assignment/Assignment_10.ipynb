{
 "cells": [
  {
   "cell_type": "markdown",
   "id": "8b9590f2",
   "metadata": {},
   "source": [
    "Python basic assignment 10"
   ]
  },
  {
   "cell_type": "code",
   "execution_count": 44,
   "id": "b2c58104",
   "metadata": {},
   "outputs": [
    {
     "name": "stdout",
     "output_type": "stream",
     "text": [
      "Would you like to create a list: (Y)es or (N)oY\n",
      "Enter a integer and when (D)one press D: 10\n",
      "Enter a integer and when (D)one press D: 20\n",
      "Enter a integer and when (D)one press D: 30\n",
      "Enter a integer and when (D)one press D: 40\n",
      "Enter a integer and when (D)one press D: 50\n",
      "Enter a integer and when (D)one press D: D\n",
      "the list is [10, 20, 30, 40, 50]\n"
     ]
    }
   ],
   "source": [
    "#Create a list over here for all the problems below:\n",
    "import sys\n",
    "user = input('Would you like to create a list: (Y)es or (N)o')\n",
    "l = []\n",
    "if user == 'Y':\n",
    "    n= input('Enter a integer and when (D)one press D: ')\n",
    "    while n != 'D':\n",
    "        l.append(int(n))\n",
    "        n= input('Enter a integer and when (D)one press D: ')\n",
    "elif user == 'N':\n",
    "    sys.exit()\n",
    "else:\n",
    "    user = input('Would you like to create a list: (Y)es or (N)o')\n",
    "    \n",
    "print('the list is',l)\n",
    "#Now we have created our universal list for all the problems below as l. we will use same for all."
   ]
  },
  {
   "cell_type": "markdown",
   "id": "3f3db7fb",
   "metadata": {},
   "source": [
    "# 1.\tWrite a Python program to find sum of elements in list?"
   ]
  },
  {
   "cell_type": "code",
   "execution_count": 45,
   "id": "874c04ef",
   "metadata": {},
   "outputs": [
    {
     "name": "stdout",
     "output_type": "stream",
     "text": [
      "150\n"
     ]
    }
   ],
   "source": [
    "addition = 0\n",
    "for c in l:\n",
    "    addition = addition + c\n",
    "print(addition)"
   ]
  },
  {
   "cell_type": "markdown",
   "id": "7463772c",
   "metadata": {},
   "source": [
    "# 2.\tWrite a Python program to  Multiply all numbers in the list?"
   ]
  },
  {
   "cell_type": "code",
   "execution_count": 46,
   "id": "da3e594d",
   "metadata": {},
   "outputs": [
    {
     "name": "stdout",
     "output_type": "stream",
     "text": [
      "12000000\n"
     ]
    }
   ],
   "source": [
    "answer = 1\n",
    "\n",
    "for c in l:\n",
    "    answer = answer * c\n",
    "print(answer)"
   ]
  },
  {
   "cell_type": "markdown",
   "id": "9e42956c",
   "metadata": {},
   "source": [
    "# 3.\tWrite a Python program to find smallest number in a list?"
   ]
  },
  {
   "cell_type": "code",
   "execution_count": 47,
   "id": "38f3416e",
   "metadata": {},
   "outputs": [
    {
     "data": {
      "text/plain": [
       "10"
      ]
     },
     "execution_count": 47,
     "metadata": {},
     "output_type": "execute_result"
    }
   ],
   "source": [
    "min(l)"
   ]
  },
  {
   "cell_type": "markdown",
   "id": "7e2b519d",
   "metadata": {},
   "source": [
    "# 4.\tWrite a Python program to find largest number in a list?"
   ]
  },
  {
   "cell_type": "code",
   "execution_count": 48,
   "id": "38399632",
   "metadata": {},
   "outputs": [
    {
     "data": {
      "text/plain": [
       "50"
      ]
     },
     "execution_count": 48,
     "metadata": {},
     "output_type": "execute_result"
    }
   ],
   "source": [
    "max(l)"
   ]
  },
  {
   "cell_type": "markdown",
   "id": "a918ae0a",
   "metadata": {},
   "source": [
    "# 5.\tWrite a Python program to find second largest number in a list?"
   ]
  },
  {
   "cell_type": "code",
   "execution_count": 55,
   "id": "88fa5ecd",
   "metadata": {},
   "outputs": [
    {
     "name": "stdout",
     "output_type": "stream",
     "text": [
      "40\n"
     ]
    }
   ],
   "source": [
    "l.sort(reverse= True)\n",
    "print(l[1])"
   ]
  },
  {
   "cell_type": "markdown",
   "id": "4ee086ad",
   "metadata": {},
   "source": [
    "# 6.\tWrite a Python program to find N largest elements from a list?"
   ]
  },
  {
   "cell_type": "code",
   "execution_count": 57,
   "id": "a9e26639",
   "metadata": {},
   "outputs": [
    {
     "name": "stdout",
     "output_type": "stream",
     "text": [
      "[50, 40, 30, 20, 10]\n"
     ]
    }
   ],
   "source": [
    "l.sort(reverse = True)\n",
    "print(l)"
   ]
  },
  {
   "cell_type": "markdown",
   "id": "d78e40ab",
   "metadata": {},
   "source": [
    "# 7.\tWrite a Python program to print even numbers in a list? 8. Write a Python program to print odd numbers in a List?\n"
   ]
  },
  {
   "cell_type": "code",
   "execution_count": 58,
   "id": "79be0695",
   "metadata": {},
   "outputs": [
    {
     "name": "stdout",
     "output_type": "stream",
     "text": [
      "50 is even\n",
      "40 is even\n",
      "30 is even\n",
      "20 is even\n",
      "10 is even\n"
     ]
    }
   ],
   "source": [
    "for c in l:\n",
    "    if c%2 == 0:\n",
    "        print(f'{c} is even')\n",
    "    else:\n",
    "        print(f'{c} is odd')"
   ]
  },
  {
   "cell_type": "markdown",
   "id": "8ad6e4fc",
   "metadata": {},
   "source": [
    "# 9.\tWrite a Python program to Remove empty List from List?"
   ]
  },
  {
   "cell_type": "code",
   "execution_count": 73,
   "id": "4dfdc05d",
   "metadata": {},
   "outputs": [
    {
     "name": "stdout",
     "output_type": "stream",
     "text": [
      "[50, 40, 30, 20, 10, [], [], [], [], [], [], [], [], [], [], [], [], [], [], [], []]\n",
      "[50, 40, 30, 20, 10]\n"
     ]
    }
   ],
   "source": [
    "new_l = l\n",
    "for _ in range(2):\n",
    "    new_l.append([])\n",
    "print(new_l)\n",
    "\n",
    "newl2 =[]\n",
    "for c in new_l:\n",
    "    if c != []:\n",
    "        newl2.append(c)\n",
    "    else:\n",
    "        pass\n",
    "print(newl2)"
   ]
  },
  {
   "cell_type": "markdown",
   "id": "2098ab81",
   "metadata": {},
   "source": [
    "# 10.\tWrite a Python program to Cloning or Copying a list?"
   ]
  },
  {
   "cell_type": "code",
   "execution_count": 76,
   "id": "17c29d84",
   "metadata": {},
   "outputs": [
    {
     "name": "stdout",
     "output_type": "stream",
     "text": [
      "[50, 40, 30, 20, 10]\n"
     ]
    }
   ],
   "source": [
    "l = newl2\n",
    "print(l)"
   ]
  },
  {
   "cell_type": "code",
   "execution_count": 78,
   "id": "0f50922d",
   "metadata": {},
   "outputs": [],
   "source": [
    "import copy #using the copy module here\n",
    "l_copy = copy.deepcopy(l)"
   ]
  },
  {
   "cell_type": "code",
   "execution_count": 80,
   "id": "e14f53f8",
   "metadata": {},
   "outputs": [],
   "source": [
    "l_copy.append(50)"
   ]
  },
  {
   "cell_type": "code",
   "execution_count": 83,
   "id": "c3123186",
   "metadata": {},
   "outputs": [
    {
     "data": {
      "text/plain": [
       "[50, 40, 30, 20, 10, 50]"
      ]
     },
     "execution_count": 83,
     "metadata": {},
     "output_type": "execute_result"
    }
   ],
   "source": [
    "l_copy #clone"
   ]
  },
  {
   "cell_type": "code",
   "execution_count": 82,
   "id": "38be92d8",
   "metadata": {},
   "outputs": [
    {
     "data": {
      "text/plain": [
       "[50, 40, 30, 20, 10]"
      ]
     },
     "execution_count": 82,
     "metadata": {},
     "output_type": "execute_result"
    }
   ],
   "source": [
    "l #this is original"
   ]
  },
  {
   "cell_type": "markdown",
   "id": "ffeb72cd",
   "metadata": {},
   "source": [
    "# 11.\tWrite a Python program to Count occurrences of an element in a list?"
   ]
  },
  {
   "cell_type": "code",
   "execution_count": 85,
   "id": "cad9fab7",
   "metadata": {},
   "outputs": [
    {
     "data": {
      "text/plain": [
       "1"
      ]
     },
     "execution_count": 85,
     "metadata": {},
     "output_type": "execute_result"
    }
   ],
   "source": [
    "l.count(50)"
   ]
  },
  {
   "cell_type": "code",
   "execution_count": 86,
   "id": "9ba65df3",
   "metadata": {},
   "outputs": [
    {
     "data": {
      "text/plain": [
       "2"
      ]
     },
     "execution_count": 86,
     "metadata": {},
     "output_type": "execute_result"
    }
   ],
   "source": [
    "l_copy.count(50)"
   ]
  },
  {
   "cell_type": "code",
   "execution_count": null,
   "id": "99f70fa3",
   "metadata": {},
   "outputs": [],
   "source": []
  }
 ],
 "metadata": {
  "kernelspec": {
   "display_name": "Python 3 (ipykernel)",
   "language": "python",
   "name": "python3"
  },
  "language_info": {
   "codemirror_mode": {
    "name": "ipython",
    "version": 3
   },
   "file_extension": ".py",
   "mimetype": "text/x-python",
   "name": "python",
   "nbconvert_exporter": "python",
   "pygments_lexer": "ipython3",
   "version": "3.9.7"
  }
 },
 "nbformat": 4,
 "nbformat_minor": 5
}
