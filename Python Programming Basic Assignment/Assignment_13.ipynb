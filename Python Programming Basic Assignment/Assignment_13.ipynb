{
 "cells": [
  {
   "cell_type": "markdown",
   "id": "9dbc02a0",
   "metadata": {},
   "source": [
    "Programming Basic Assignment 13"
   ]
  },
  {
   "cell_type": "markdown",
   "id": "5195d8c5",
   "metadata": {},
   "source": [
    "# Question 1:\n",
    "\n",
    "Write a program that calculates and prints the value according to the given formula:\n",
    "\n",
    "Q = Square root of [(2 * C * D)/H]\n",
    "\n",
    "Following are the fixed values of C and H:\n",
    "\n",
    "C is 50. H is 30.\n",
    "\n",
    "D is the variable whose values should be input to your program in a comma-separated sequence.\n",
    "\n",
    "Example\n",
    "\n",
    "Let us assume the following comma separated input sequence is given to the program:\n",
    "\n",
    "100,150,180\n",
    "\n",
    "The output of the program should be:\n",
    "\n",
    "18,22,24"
   ]
  },
  {
   "cell_type": "code",
   "execution_count": 26,
   "id": "8edff546",
   "metadata": {},
   "outputs": [
    {
     "name": "stdout",
     "output_type": "stream",
     "text": [
      "Enter the numbers seperated by comma: 100,150,180\n",
      "[18, 22, 24]\n"
     ]
    }
   ],
   "source": [
    "#lets use Math module\n",
    "\n",
    "from math import *\n",
    "\n",
    "#input:\n",
    "\n",
    "num = input('Enter the numbers seperated by comma: ')\n",
    "new_num = num.split(',')\n",
    "\n",
    "\n",
    "#fixed values i.e. constants\n",
    "C = 50\n",
    "H = 30\n",
    "\n",
    "ans_list = []\n",
    "for D in new_num:\n",
    "    #print(D)\n",
    "    Q = round(sqrt((2 * C * int(D))/H))\n",
    "    ans_list.append(Q)\n",
    "\n",
    "print(ans_list)\n"
   ]
  },
  {
   "cell_type": "code",
   "execution_count": null,
   "id": "eeeee89e",
   "metadata": {},
   "outputs": [],
   "source": []
  },
  {
   "cell_type": "markdown",
   "id": "f72aacd9",
   "metadata": {},
   "source": [
    "# Question 2:\n",
    "Write a program which takes 2 digits, X,Y as input and generates a 2-dimensional array. The element value in the i-th row and j-th column of the array should be i*j.\n",
    "\n",
    "Note: i=0,1.., X-1; j=0,1,¡¬Y-1.\n",
    "\n",
    "Example\n",
    "\n",
    "Suppose the following inputs are given to the program:\n",
    "\n",
    "3,5\n",
    "\n",
    "Then, the output of the program should be:\n",
    "\n",
    "[[0, 0, 0, 0, 0], [0, 1, 2, 3, 4], [0, 2, 4, 6, 8]] \n"
   ]
  },
  {
   "cell_type": "code",
   "execution_count": 16,
   "id": "dba00806",
   "metadata": {},
   "outputs": [
    {
     "name": "stdout",
     "output_type": "stream",
     "text": [
      "Enter the X: 3\n",
      "Enter the Y: 5\n",
      "[[0, 0, 0, 0, 0], [0, 1, 2, 3, 4], [0, 2, 4, 6, 8]]\n"
     ]
    }
   ],
   "source": [
    "X = int(input('Enter the X: '))\n",
    "Y = int(input('Enter the Y: '))\n",
    "a = []\n",
    "for i in range(X):\n",
    "    b=[]\n",
    "    for j in range(Y):\n",
    "        c = i*j\n",
    "        b.append(c)\n",
    "    a.append(b)\n",
    "\n",
    "print(a)"
   ]
  },
  {
   "cell_type": "markdown",
   "id": "367672e8",
   "metadata": {},
   "source": [
    "# Question 3:\n",
    "Write a program that accepts a comma separated sequence of words as input and prints the words in a comma-separated sequence after sorting them alphabetically.\n",
    "\n",
    "Suppose the following input is supplied to the program:\n",
    "\n",
    "without,hello,bag,world\n",
    "\n",
    "Then, the output should be:\n",
    "\n",
    "bag,hello,without,world\n",
    "\n"
   ]
  },
  {
   "cell_type": "code",
   "execution_count": 26,
   "id": "261847a5",
   "metadata": {},
   "outputs": [
    {
     "name": "stdout",
     "output_type": "stream",
     "text": [
      "Enter the string seperated by commas: without,hello,bag,world\n",
      "The sorted list is  ['bag', 'hello', 'without', 'world']\n"
     ]
    }
   ],
   "source": [
    "sample = input('Enter the string seperated by commas: ')\n",
    "the_list = sample.split(',')\n",
    "new = sorted(the_list)\n",
    "print('The sorted list is ', new)"
   ]
  },
  {
   "cell_type": "markdown",
   "id": "0331f9f9",
   "metadata": {},
   "source": [
    "# Question 4:\n",
    "Write a program that accepts a sequence of whitespace separated words as input and prints the words after removing all duplicate words and sorting them alphanumerically.\n",
    "\n",
    "Suppose the following input is supplied to the program:\n",
    "\n",
    "hello world and practice makes perfect and hello world again\n",
    "\n",
    "Then, the output should be:\n",
    "\n",
    "again and hello makes perfect practice world"
   ]
  },
  {
   "cell_type": "code",
   "execution_count": 59,
   "id": "f48ea2b4",
   "metadata": {},
   "outputs": [
    {
     "name": "stdout",
     "output_type": "stream",
     "text": [
      "Enter the string seperated by whitespace: hello world and practice makes perfect and hello world again\n",
      "my answer is:  again and hello makes perfect practice world\n"
     ]
    }
   ],
   "source": [
    "sample1 = input('Enter the string seperated by whitespace: ')\n",
    "no_ws = sample1.split(' ')\n",
    "no_ws_set = set(no_ws)\n",
    "no_ws_l = sorted(list(no_ws_set))\n",
    "\n",
    "'''\n",
    "join by concatination is a bit long code\n",
    "my_answer = ''\n",
    "for c in no_ws_l:\n",
    "    my_answer = my_answer + c + ' '\n",
    "\n",
    "print(my_answer)\n",
    "'''\n",
    "#better use .join method and get the answer\n",
    "print('my answer is: ',' '.join(word for word in no_ws_l))"
   ]
  },
  {
   "cell_type": "markdown",
   "id": "d779f686",
   "metadata": {},
   "source": [
    "# Question 5:\n",
    "Write a program that accepts a sentence and calculate the number of letters and digits.\n",
    "\n",
    "Suppose the following input is supplied to the program:\n",
    "\n",
    "hello world! 123\n",
    "\n",
    "Then, the output should be:\n",
    "\n",
    "LETTERS 10\n",
    "\n",
    "DIGITS 3\n"
   ]
  },
  {
   "cell_type": "code",
   "execution_count": 62,
   "id": "5b86de39",
   "metadata": {},
   "outputs": [
    {
     "name": "stdout",
     "output_type": "stream",
     "text": [
      "LETTERS:  10\n",
      "DIGITS: 3\n"
     ]
    }
   ],
   "source": [
    "import string\n",
    "\n",
    "my_input = 'hello world! 123'\n",
    "\n",
    "letters = 0\n",
    "digits = 0\n",
    "for c in my_input:\n",
    "    if c in string.ascii_letters:\n",
    "        letters += 1\n",
    "    if c in string.digits:\n",
    "        digits += 1\n",
    "        \n",
    "print('LETTERS: ',letters)\n",
    "print('DIGITS:', digits)"
   ]
  },
  {
   "cell_type": "markdown",
   "id": "0fb0c1f6",
   "metadata": {},
   "source": [
    "# Question 6:\n",
    "A website requires the users to input username and password to register. Write a program to check the validity of password input by users.\n",
    "\n",
    "Following are the criteria for checking the password:\n",
    "\n",
    "1. At least 1 letter between [a-z]\n",
    "\n",
    "2. At least 1 number between [0-9]\n",
    "\n",
    "1. At least 1 letter between [A-Z]\n",
    "\n",
    "3. At least 1 character from [$#@]\n",
    "\n",
    "4. Minimum length of transaction password: 6\n",
    "\n",
    "5. Maximum length of transaction password: 12\n",
    "\n",
    "Your program should accept a sequence of comma separated passwords and will check them according to the above criteria. Passwords that match the criteria are to be printed, each separated by a comma.\n",
    "\n",
    "Example\n",
    "\n",
    "If the following passwords are given as input to the program:\n",
    "\n",
    "ABd1234@1,a F1#,2w3E*,2We3345\n",
    "\n",
    "Then, the output of the program should be:\n",
    "\n",
    "ABd1234@1\n"
   ]
  },
  {
   "cell_type": "code",
   "execution_count": 6,
   "id": "85661f9f",
   "metadata": {},
   "outputs": [
    {
     "name": "stdout",
     "output_type": "stream",
     "text": [
      "Enter the list of passwords seperated by commas: ABd1234@1,a F1#,2w3E*,2We3345\n",
      "ABd1234@1\n"
     ]
    }
   ],
   "source": [
    "import string\n",
    "\n",
    "def check_password(user_input):\n",
    "\n",
    "    upper_case = 0\n",
    "    lower_case = 0\n",
    "    digits = 0\n",
    "    special = 0\n",
    "    flag_1 = False\n",
    "    flag_2 = False\n",
    "    flag_3 = False\n",
    "    flag_4 = False\n",
    "    flag_len = False\n",
    "\n",
    "    if 6 <= len(user_input) <= 12:\n",
    "        flag_len = True\n",
    "    for c in user_input:\n",
    "        #print(c)\n",
    "        if c in string.ascii_uppercase:\n",
    "            upper_case += 1\n",
    "            if upper_case > 0 :\n",
    "                flag_1 = True\n",
    "                #print(flag_1)\n",
    "        if c in string.ascii_lowercase:\n",
    "            lower_case += 1\n",
    "            if lower_case > 0:\n",
    "                flag_2 = True\n",
    "                #print(flag_2)\n",
    "        if c in string.digits:\n",
    "            digits += 1\n",
    "            if digits > 0:\n",
    "                flag_3 = True\n",
    "        if c in ['$', '#', '@']:\n",
    "            special += 1\n",
    "            if special > 0:\n",
    "                flag_4 = True\n",
    "\n",
    "    #check:\n",
    "    if flag_1 and flag_2 and flag_3 and flag_4 and flag_len == True:\n",
    "        return (user_input)\n",
    "\n",
    "user_entry = input('Enter the list of passwords seperated by commas: ')\n",
    "user_entry_list = user_entry.split(',')\n",
    "\n",
    "for password in user_entry_list:\n",
    "    if check_password(password) == None:\n",
    "        continue\n",
    "    else:\n",
    "        print(password)\n"
   ]
  },
  {
   "cell_type": "code",
   "execution_count": null,
   "id": "ddf85577",
   "metadata": {},
   "outputs": [],
   "source": []
  },
  {
   "cell_type": "code",
   "execution_count": null,
   "id": "a364636d",
   "metadata": {},
   "outputs": [],
   "source": []
  }
 ],
 "metadata": {
  "kernelspec": {
   "display_name": "Python 3 (ipykernel)",
   "language": "python",
   "name": "python3"
  },
  "language_info": {
   "codemirror_mode": {
    "name": "ipython",
    "version": 3
   },
   "file_extension": ".py",
   "mimetype": "text/x-python",
   "name": "python",
   "nbconvert_exporter": "python",
   "pygments_lexer": "ipython3",
   "version": "3.9.7"
  }
 },
 "nbformat": 4,
 "nbformat_minor": 5
}
