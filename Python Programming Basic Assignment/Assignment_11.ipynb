{
 "cells": [
  {
   "cell_type": "markdown",
   "id": "f58173a0",
   "metadata": {},
   "source": [
    "Python Programming Basic Assignement 11"
   ]
  },
  {
   "cell_type": "markdown",
   "id": "347c64ae",
   "metadata": {},
   "source": [
    "# 1.\tWrite a Python program to find words which are greater than given length k?"
   ]
  },
  {
   "cell_type": "code",
   "execution_count": 36,
   "id": "2c606d73",
   "metadata": {},
   "outputs": [
    {
     "name": "stdout",
     "output_type": "stream",
     "text": [
      "['name', 'Shakalaka', 'living', 'small', 'town']\n"
     ]
    }
   ],
   "source": [
    "test_case = 'Hi my name is mr Shakalaka. I am living in small town.'\n",
    "#first I need to remove all the special characters from here\n",
    "\n",
    "from string import punctuation #for ease of doing\n",
    "\n",
    "new_text = ''\n",
    "for c in test_case:\n",
    "    if c in list(punctuation):\n",
    "        continue\n",
    "    else:\n",
    "        new_text = new_text + c\n",
    "#print(new_text)\n",
    "\n",
    "k = 2 #This is my k\n",
    "l = new_text.split(' ')\n",
    "\n",
    "new_list = []\n",
    "for c in l: \n",
    "  if len(c) > k:\n",
    "    new_list.append(c)\n",
    "\n",
    "print(new_list)\n"
   ]
  },
  {
   "cell_type": "markdown",
   "id": "ff9eb5ac",
   "metadata": {},
   "source": [
    "# 2.\tWrite a Python program for removing i-th character from a string?"
   ]
  },
  {
   "cell_type": "code",
   "execution_count": 49,
   "id": "b048ab29",
   "metadata": {},
   "outputs": [
    {
     "name": "stdout",
     "output_type": "stream",
     "text": [
      "I lie to watch Malyalam Movies alot\n"
     ]
    }
   ],
   "source": [
    "text2 = 'I like to watch Malyalam Movies alot'\n",
    "\n",
    "i = 4 #specify the i\n",
    "\n",
    "\n",
    "text_final = ''\n",
    "for k in range(len(text2)):\n",
    "    if k != i:\n",
    "        text_final = text_final + test2[k]\n",
    "    else:\n",
    "        continue\n",
    "\n",
    "\n",
    "print(text_final)\n",
    "\n"
   ]
  },
  {
   "cell_type": "markdown",
   "id": "4826837a",
   "metadata": {},
   "source": [
    "# 3.\tWrite a Python program to split and join a string?\n"
   ]
  },
  {
   "cell_type": "code",
   "execution_count": 50,
   "id": "e66d91b3",
   "metadata": {},
   "outputs": [
    {
     "name": "stdout",
     "output_type": "stream",
     "text": [
      "Split:  ['Hi', 'my', 'name', 'is', 'mr', 'Shakalaka.', 'I', 'am', 'living', 'in', 'small', 'town.']\n",
      "Join:  Hi my name is mr Shakalaka. I am living in small town. \n"
     ]
    }
   ],
   "source": [
    "test_case = 'Hi my name is mr Shakalaka. I am living in small town.'\n",
    "\n",
    "new_text = test_case.split(' ')\n",
    "print('Split: ', new_text)\n",
    "#for joining all of these again:\n",
    "\n",
    "new2 = ''\n",
    "for c in new_text:\n",
    "    new2 = new2 + c + ' '\n",
    "\n",
    "print('Join: ',new2)"
   ]
  },
  {
   "cell_type": "markdown",
   "id": "62eeaf08",
   "metadata": {},
   "source": [
    "# 4.\tWrite a Python to check if a given string is binary string or not?\n"
   ]
  },
  {
   "cell_type": "code",
   "execution_count": 74,
   "id": "9202d36e",
   "metadata": {},
   "outputs": [
    {
     "name": "stdout",
     "output_type": "stream",
     "text": [
      "Enter: 45fd54\n",
      "Not a binary\n"
     ]
    }
   ],
   "source": [
    "#binary means 1 or 0\n",
    "\n",
    "test = str(input('Enter: '))\n",
    "flag = False\n",
    "\n",
    "for c in test:\n",
    "\n",
    "  if c in ['1','0'] :\n",
    "    flag = False\n",
    "  else:\n",
    "    flag = True\n",
    "    break\n",
    "\n",
    "  #print (c,type(c), flag)\n",
    "if flag == True:\n",
    "  print('Not a binary')\n",
    "else:\n",
    "  print('Binary')"
   ]
  },
  {
   "cell_type": "markdown",
   "id": "453ed8a8",
   "metadata": {},
   "source": [
    "# 5.\tWrite a Python program to find uncommon words from two Strings?\n"
   ]
  },
  {
   "cell_type": "code",
   "execution_count": 93,
   "id": "ec92724f",
   "metadata": {},
   "outputs": [
    {
     "name": "stdout",
     "output_type": "stream",
     "text": [
      "{'sister', 'bro'}\n"
     ]
    }
   ],
   "source": [
    "from string import punctuation\n",
    "\n",
    "string_1 = 'Hey! hello bro!'\n",
    "string_2 = 'Hey! hello sister$'\n",
    "\n",
    "def split_list(string_1):\n",
    "    string_1_new = ''\n",
    "    for c in string_1:\n",
    "        if c in punctuation:\n",
    "            continue\n",
    "        else:\n",
    "            string_1_new = string_1_new + c\n",
    "            \n",
    "    l1 = string_1_new.split(' ')\n",
    "    return l1\n",
    "\n",
    "set1 = set(split_list(string_1))\n",
    "set2 = set(split_list(string_2))\n",
    "\n",
    "C= set1.union(set2) - set1.intersection(set2)\n",
    "print(C)"
   ]
  },
  {
   "cell_type": "markdown",
   "id": "27e2ff3b",
   "metadata": {},
   "source": [
    "# 6.\tWrite a Python to find all duplicate characters in string?\n"
   ]
  },
  {
   "cell_type": "code",
   "execution_count": 113,
   "id": "d9cee910",
   "metadata": {},
   "outputs": [
    {
     "name": "stdout",
     "output_type": "stream",
     "text": [
      "The duplicates are e 3\n",
      "The duplicates are y 4\n",
      "The duplicates are   8\n",
      "The duplicates are s 2\n",
      "The duplicates are a 3\n",
      "The duplicates are m 3\n",
      "The duplicates are o 5\n",
      "The duplicates are r 2\n",
      "The duplicates are d 2\n",
      "The duplicates are t 3\n",
      "The duplicates are . 2\n",
      "The duplicates are l 2\n"
     ]
    }
   ],
   "source": [
    "test_string = 'Hey guys I am bored today. lets play tommorow.'\n",
    "count={}\n",
    "\n",
    "for c in test_string:\n",
    "    count.setdefault(c,0)\n",
    "    count[c] = count[c] + 1\n",
    "\n",
    "#print(count.items())\n",
    "\n",
    "for key, value in count.items():\n",
    "    if value > 1:\n",
    "        print('The duplicates are',key,value)\n"
   ]
  },
  {
   "cell_type": "markdown",
   "id": "2718fb15",
   "metadata": {},
   "source": [
    "# 7.\tWrite a Python Program to check if a string contains any special character?"
   ]
  },
  {
   "cell_type": "code",
   "execution_count": 118,
   "id": "0b1fe05d",
   "metadata": {},
   "outputs": [
    {
     "name": "stdout",
     "output_type": "stream",
     "text": [
      "There is special character\n"
     ]
    }
   ],
   "source": [
    "test7  = 'So I have special characters &^%$ like in this line'\n",
    "\n",
    "flag = False\n",
    "for c in test7:\n",
    "    if c in punctuation:\n",
    "        flag = True\n",
    "        break\n",
    "        \n",
    "if flag == False:\n",
    "    print('Special character does not exists')\n",
    "else:\n",
    "    print('There is special character')"
   ]
  },
  {
   "cell_type": "code",
   "execution_count": null,
   "id": "4ea740be",
   "metadata": {},
   "outputs": [],
   "source": []
  },
  {
   "cell_type": "code",
   "execution_count": null,
   "id": "9c42cf94",
   "metadata": {},
   "outputs": [],
   "source": []
  }
 ],
 "metadata": {
  "kernelspec": {
   "display_name": "Python 3 (ipykernel)",
   "language": "python",
   "name": "python3"
  },
  "language_info": {
   "codemirror_mode": {
    "name": "ipython",
    "version": 3
   },
   "file_extension": ".py",
   "mimetype": "text/x-python",
   "name": "python",
   "nbconvert_exporter": "python",
   "pygments_lexer": "ipython3",
   "version": "3.9.7"
  }
 },
 "nbformat": 4,
 "nbformat_minor": 5
}
