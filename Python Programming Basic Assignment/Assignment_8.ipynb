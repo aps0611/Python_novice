{
 "cells": [
  {
   "cell_type": "markdown",
   "id": "c7b90bae",
   "metadata": {},
   "source": [
    "Python Basic Programming Assignment_8"
   ]
  },
  {
   "cell_type": "markdown",
   "id": "256bfd1b",
   "metadata": {},
   "source": [
    "# 1.\tWrite a Python Program to Add Two Matrices?"
   ]
  },
  {
   "cell_type": "code",
   "execution_count": 6,
   "id": "6216494d",
   "metadata": {},
   "outputs": [
    {
     "name": "stdout",
     "output_type": "stream",
     "text": [
      "[[11, 22, 33], [43, 54, 65], [76, 87, 98]]\n"
     ]
    }
   ],
   "source": [
    "#dimension = 3*3\n",
    "\n",
    "#Matrix A\n",
    "r1=[1,2,3]\n",
    "r2=[3,4,5]\n",
    "r3=[6,7,8]\n",
    "\n",
    "#Matrix B\n",
    "p1=[10,20,30]\n",
    "p2=[40,50,60]\n",
    "p3=[70,80,90]\n",
    "\n",
    "A=[]\n",
    "B=[]\n",
    "A.append(r1)\n",
    "A.append(r2)\n",
    "A.append(r3)\n",
    "\n",
    "B.append(p1)\n",
    "B.append(p2)\n",
    "B.append(p3)\n",
    "\n",
    "\n",
    "#print(A,B)\n",
    "C=[[0,0,0],[0,0,0],[0,0,0]]\n",
    "for i in range(len(A)):\n",
    "    for j in range(len(B)):\n",
    "        C[i][j]=A[i][j]+B[i][j]\n",
    "\n",
    "print(C)\n",
    "\n",
    "\n"
   ]
  },
  {
   "cell_type": "markdown",
   "id": "a1a7c03c",
   "metadata": {},
   "source": [
    "# 2.\tWrite a Python Program to Multiply Two Matrices?"
   ]
  },
  {
   "cell_type": "code",
   "execution_count": 8,
   "id": "a481667c",
   "metadata": {},
   "outputs": [
    {
     "name": "stdout",
     "output_type": "stream",
     "text": [
      "[[300, 360, 420], [540, 660, 780], [900, 1110, 1320]]\n"
     ]
    }
   ],
   "source": [
    "#Matrix A\n",
    "r1=[1,2,3]\n",
    "r2=[3,4,5]\n",
    "r3=[6,7,8]\n",
    "\n",
    "#Matrix B\n",
    "p1=[10,20,30]\n",
    "p2=[40,50,60]\n",
    "p3=[70,80,90]\n",
    "\n",
    "A=[]\n",
    "B=[]\n",
    "A.append(r1)\n",
    "A.append(r2)\n",
    "A.append(r3)\n",
    "\n",
    "B.append(p1)\n",
    "B.append(p2)\n",
    "B.append(p3)\n",
    "\n",
    "#Here the Multiplication means first row of A multiplied by first colum of B and  its sum\n",
    "\n",
    "C=[[0,0,0],[0,0,0],[0,0,0]]\n",
    "dim=3 #let the dimension be 3*3\n",
    "\n",
    "for i in range(dim):\n",
    "    for j in range(dim):\n",
    "        #C[0][0]=A[0][0]B[0][0]+A[0][1]B[1][0]+A[0][2]B[2][0]\n",
    "        #C[0][1]=A[0][0]B[0][1]+A[0][1]B[1][1]+A[0][2]B[2][1]\n",
    "        #C[i][j]=A[i][0]B[0][j]+A[i][1]B[1][j]+A[i][2]B[2][j]\n",
    "        for k in range(dim):\n",
    "            C[i][j]=C[i][j] + (A[i][k])*(B[k][j])\n",
    "print(C)\n"
   ]
  },
  {
   "cell_type": "markdown",
   "id": "36745bc4",
   "metadata": {},
   "source": [
    "# 3.\tWrite a Python Program to Transpose a Matrix?"
   ]
  },
  {
   "cell_type": "code",
   "execution_count": 12,
   "id": "3d53b31a",
   "metadata": {},
   "outputs": [
    {
     "name": "stdout",
     "output_type": "stream",
     "text": [
      "[[1, 2, 3], [3, 4, 5], [6, 7, 8]]\n",
      "And the transpose is [[1, 3, 6], [2, 4, 7], [3, 5, 8]]\n"
     ]
    }
   ],
   "source": [
    "#Transpose of a Matrix means we need to interchange the rows and coloumns:\n",
    "\n",
    "#Matrix A\n",
    "r1=[1,2,3]\n",
    "r2=[3,4,5]\n",
    "r3=[6,7,8]\n",
    "\n",
    "A=[]\n",
    "\n",
    "A.append(r1)\n",
    "A.append(r2)\n",
    "A.append(r3)\n",
    "\n",
    "C=[[0,0,0],[0,0,0],[0,0,0]]\n",
    "\n",
    "for i in range(dim):\n",
    "    for j in range(dim):\n",
    "        C[i][j]=A[j][i]\n",
    "print(A)\n",
    "print('And the transpose is',C)"
   ]
  },
  {
   "cell_type": "markdown",
   "id": "c3443fea",
   "metadata": {},
   "source": [
    "# 4.\tWrite a Python Program to Sort Words in Alphabetic Order?"
   ]
  },
  {
   "cell_type": "code",
   "execution_count": 10,
   "id": "c35d7574",
   "metadata": {},
   "outputs": [
    {
     "name": "stdout",
     "output_type": "stream",
     "text": [
      "['case', 'is', 'my', 'test', 'this']\n"
     ]
    }
   ],
   "source": [
    "line='This is my test case'\n",
    "#convert this into lowercase and then split it\n",
    "\n",
    "words=(line.lower()).split()\n",
    "#sort\n",
    "\n",
    "words.sort()\n",
    "print(words)\n"
   ]
  },
  {
   "cell_type": "code",
   "execution_count": null,
   "id": "a165bafc",
   "metadata": {},
   "outputs": [],
   "source": []
  },
  {
   "cell_type": "markdown",
   "id": "f9aaaede",
   "metadata": {},
   "source": [
    "# 5.\tWrite a Python Program to Remove Punctuation From a String?"
   ]
  },
  {
   "cell_type": "code",
   "execution_count": 15,
   "id": "a87ff860",
   "metadata": {},
   "outputs": [
    {
     "name": "stdout",
     "output_type": "stream",
     "text": [
      "Thisismytestcase\n"
     ]
    }
   ],
   "source": [
    "line=\"This!is?my'test case\"\n",
    "\n",
    "new_line=\"\"\n",
    "for c in line:\n",
    "    if c.isalpha() == True:\n",
    "        new_line+=c\n",
    "\n",
    "print(new_line)"
   ]
  },
  {
   "cell_type": "code",
   "execution_count": null,
   "id": "1f4523b2",
   "metadata": {},
   "outputs": [],
   "source": []
  }
 ],
 "metadata": {
  "kernelspec": {
   "display_name": "Python 3 (ipykernel)",
   "language": "python",
   "name": "python3"
  },
  "language_info": {
   "codemirror_mode": {
    "name": "ipython",
    "version": 3
   },
   "file_extension": ".py",
   "mimetype": "text/x-python",
   "name": "python",
   "nbconvert_exporter": "python",
   "pygments_lexer": "ipython3",
   "version": "3.9.7"
  }
 },
 "nbformat": 4,
 "nbformat_minor": 5
}
