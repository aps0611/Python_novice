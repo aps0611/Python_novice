{
 "cells": [
  {
   "cell_type": "markdown",
   "id": "aac75bd9",
   "metadata": {},
   "source": [
    "Python Programming Basic Assignment 4"
   ]
  },
  {
   "cell_type": "markdown",
   "id": "1c2eb728",
   "metadata": {},
   "source": [
    "# 1.\tWrite a Python Program to Find the Factorial of a Number?"
   ]
  },
  {
   "cell_type": "code",
   "execution_count": 6,
   "id": "0539d056",
   "metadata": {},
   "outputs": [
    {
     "name": "stdout",
     "output_type": "stream",
     "text": [
      "Enter the number: 5\n",
      "120\n"
     ]
    }
   ],
   "source": [
    "#fact=n(n-1)(n-2)(n-3)(n-4).....(n-i) or 1*2*3*4*5 where 5 is n and i starts from 1 and incrementsby 1 till 5\n",
    "n=int(input('Enter the number: '))\n",
    "fact=1\n",
    "i=1\n",
    "while (i<=n):\n",
    "    fact=fact*i\n",
    "    i=i+1\n",
    "    \n",
    "print(fact)\n"
   ]
  },
  {
   "cell_type": "markdown",
   "id": "112c7c1c",
   "metadata": {},
   "source": [
    "# 2.\tWrite a Python Program to Display the multiplication Table?"
   ]
  },
  {
   "cell_type": "code",
   "execution_count": null,
   "id": "6bd5d008",
   "metadata": {},
   "outputs": [],
   "source": [
    "#Multiplication table:\n",
    "\n",
    "#3(input) x 1(i)=3(ans)\n",
    "#3 x 2=6\n",
    "\n",
    "num=int(input('Enter number: '))\n",
    "\n",
    "i=1 \n",
    "\n",
    "while(i<11):\n",
    "    ans=num*i\n",
    "    print(f'{num} * {i} = {ans}')\n",
    "    i=i+1\n",
    "\n"
   ]
  },
  {
   "cell_type": "markdown",
   "id": "c8abe6e5",
   "metadata": {},
   "source": [
    "# 3.\tWrite a Python Program to Print the Fibonacci sequence?"
   ]
  },
  {
   "cell_type": "code",
   "execution_count": 2,
   "id": "455fb4a5",
   "metadata": {},
   "outputs": [
    {
     "name": "stdout",
     "output_type": "stream",
     "text": [
      "0\n",
      "1\n",
      "1\n",
      "2\n",
      "3\n",
      "5\n",
      "8\n",
      "13\n",
      "21\n",
      "34\n",
      "55\n",
      "89\n",
      "144\n"
     ]
    }
   ],
   "source": [
    "#fibonacci means third term is obtained by adding first 2 terms in sequence\n",
    "# 0, 1, 1, 2, 3, 5, 8, 13, 21, ….\n",
    "a=0\n",
    "b=1\n",
    "c=0\n",
    "print(a)\n",
    "print(b)\n",
    "'''a+b=c\n",
    "b+c=d\n",
    "c+d=e\n",
    "'''\n",
    "while(c<100):#file size increased that is why i kept it less than 100\n",
    "    c=a+b\n",
    "    print(c)\n",
    "    a= b\n",
    "    b= c\n"
   ]
  },
  {
   "cell_type": "markdown",
   "id": "4df5be37",
   "metadata": {},
   "source": [
    "# 4.\tWrite a Python Program to Check Armstrong Number?"
   ]
  },
  {
   "cell_type": "code",
   "execution_count": 31,
   "id": "0b825269",
   "metadata": {},
   "outputs": [
    {
     "name": "stdout",
     "output_type": "stream",
     "text": [
      "Enter the number: 9474\n",
      "Armstrong Number\n"
     ]
    }
   ],
   "source": [
    "#armstrong number for example 371 i.e 3**3 + 7**3 + 1**3 =371 then it is armstrong number\n",
    "#verified\n",
    "\n",
    "n=int(input('Enter the number: '))\n",
    "l=len(str(n))\n",
    "#print (l)\n",
    "#print(type(l))\n",
    "ans=0\n",
    "num=n\n",
    "\n",
    "for i in range(l):\n",
    "    x=num%10\n",
    "    #print('x',x)\n",
    "    \n",
    "    num=num//10\n",
    "    #print('num',num)\n",
    "    \n",
    "    ans=ans+x**l\n",
    "    #print(ans)\n",
    "\n",
    "#print(num)\n",
    "#print(ans)\n",
    "\n",
    "if n == ans:\n",
    "    print('Armstrong Number')\n",
    "else:\n",
    "    print('Not armstrong number')\n",
    "    \n",
    "#test cases: 371 1634 370 8208 9474"
   ]
  },
  {
   "cell_type": "markdown",
   "id": "434fdb18",
   "metadata": {},
   "source": [
    "# 5.\tWrite a Python Program to Find Armstrong Number in an Interval?"
   ]
  },
  {
   "cell_type": "code",
   "execution_count": 38,
   "id": "9c03709c",
   "metadata": {},
   "outputs": [
    {
     "name": "stdout",
     "output_type": "stream",
     "text": [
      "Enter range_min1\n",
      "Enter range_max100000\n",
      "Armstrong Number 1\n",
      "Armstrong Number 2\n",
      "Armstrong Number 3\n",
      "Armstrong Number 4\n",
      "Armstrong Number 5\n",
      "Armstrong Number 6\n",
      "Armstrong Number 7\n",
      "Armstrong Number 8\n",
      "Armstrong Number 9\n",
      "Armstrong Number 153\n",
      "Armstrong Number 370\n",
      "Armstrong Number 371\n",
      "Armstrong Number 407\n",
      "Armstrong Number 1634\n",
      "Armstrong Number 8208\n",
      "Armstrong Number 9474\n",
      "Armstrong Number 54748\n",
      "Armstrong Number 92727\n",
      "Armstrong Number 93084\n"
     ]
    }
   ],
   "source": [
    "min=int(input('Enter range_min'))\n",
    "max=int(input('Enter range_max'))\n",
    "\n",
    "for n in range(min,max):\n",
    "    p=str(n)\n",
    "    l=len(p)\n",
    "    #print (l)\n",
    "    #print(type(l))\n",
    "    ans=0\n",
    "    num=n\n",
    "\n",
    "    for i in range(l):\n",
    "        x=num%10\n",
    "        #print('x',x)\n",
    "\n",
    "        num=num//10\n",
    "        #print('num',num)\n",
    "\n",
    "        ans=ans+x**l\n",
    "        #print(ans)\n",
    "\n",
    "    #print(num)\n",
    "    #print(ans)\n",
    "\n",
    "    if n == ans:\n",
    "        print('Armstrong Number',n)\n",
    "    #else:\n",
    "        #print('Not armstrong number',n)\n",
    "\n",
    "    #test cases: 371 1634 370 8208 9474"
   ]
  },
  {
   "cell_type": "markdown",
   "id": "42bb5479",
   "metadata": {},
   "source": [
    "# 6.\tWrite a Python Program to Find the Sum of Natural Numbers?"
   ]
  },
  {
   "cell_type": "code",
   "execution_count": 41,
   "id": "7b0604fc",
   "metadata": {},
   "outputs": [
    {
     "name": "stdout",
     "output_type": "stream",
     "text": [
      "Enter the number of how many first natural numbers you want: 10\n",
      "55.0\n"
     ]
    }
   ],
   "source": [
    "#to find sum of 'n' natural numbers:\n",
    "#formula is n(n+1)/2\n",
    "\n",
    "n=int(input('Enter the number of how many first natural numbers you want: '))\n",
    "sum=n*(n+1)/2\n",
    "print(sum)"
   ]
  },
  {
   "cell_type": "code",
   "execution_count": 43,
   "id": "cc94712c",
   "metadata": {},
   "outputs": [
    {
     "name": "stdout",
     "output_type": "stream",
     "text": [
      "Sum of n natural numbers. Pleas enter n: 10\n",
      "55\n"
     ]
    }
   ],
   "source": [
    "# using loop:\n",
    "n=int(input('Sum of n natural numbers. Pleas enter n: '))\n",
    "i=0\n",
    "ans=0\n",
    "while(i!=n+1):\n",
    "    ans=ans+i\n",
    "    i=i+1\n",
    "print(ans)"
   ]
  },
  {
   "cell_type": "code",
   "execution_count": null,
   "id": "6a3f6354",
   "metadata": {},
   "outputs": [],
   "source": []
  }
 ],
 "metadata": {
  "kernelspec": {
   "display_name": "Python 3 (ipykernel)",
   "language": "python",
   "name": "python3"
  },
  "language_info": {
   "codemirror_mode": {
    "name": "ipython",
    "version": 3
   },
   "file_extension": ".py",
   "mimetype": "text/x-python",
   "name": "python",
   "nbconvert_exporter": "python",
   "pygments_lexer": "ipython3",
   "version": "3.9.7"
  }
 },
 "nbformat": 4,
 "nbformat_minor": 5
}
