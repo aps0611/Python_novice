{
 "cells": [
  {
   "cell_type": "markdown",
   "id": "a7ce75d3",
   "metadata": {},
   "source": [
    "# Assignment 1"
   ]
  },
  {
   "cell_type": "markdown",
   "id": "c78cdeaa",
   "metadata": {},
   "source": [
    "#1 Write a Python program to print 'Hello Python'?"
   ]
  },
  {
   "cell_type": "code",
   "execution_count": 7,
   "id": "8ec91316",
   "metadata": {},
   "outputs": [
    {
     "name": "stdout",
     "output_type": "stream",
     "text": [
      "Hello Python\n"
     ]
    }
   ],
   "source": [
    "print('Hello Python')"
   ]
  },
  {
   "cell_type": "markdown",
   "id": "e73b677b",
   "metadata": {},
   "source": [
    "#2 Write a Python program to do arithmetical operations addition and division.?"
   ]
  },
  {
   "cell_type": "code",
   "execution_count": 2,
   "id": "6827d722",
   "metadata": {},
   "outputs": [
    {
     "name": "stdout",
     "output_type": "stream",
     "text": [
      "What would you like to do- Addition or Division or Exit?:Exit\n"
     ]
    }
   ],
   "source": [
    "n=input('What would you like to do- Addition or Division or Exit?:')\n",
    "\n",
    "while(n!='Exit'):\n",
    "    if (n=='Addition'):\n",
    "        a=int(input('Enter the first Number'))\n",
    "        b=int(input('Enter the second Number'))\n",
    "        c=a+b\n",
    "        print(f'The addition of {a} and {b} is {c}')\n",
    "        break\n",
    "    elif(n=='Division'):\n",
    "        a=int(input('Enter the Divident:'))\n",
    "        b=int(input('Enter the Divisor:'))\n",
    "        c=a/b\n",
    "        print(f'The division of {a} and {b} is {c}')\n",
    "        break\n",
    "    else:\n",
    "        n=input('What would you like to do- Addition or Division or Exit?:')\n"
   ]
  },
  {
   "cell_type": "markdown",
   "id": "659198b4",
   "metadata": {},
   "source": [
    "#3. Write a Python program to find the area of a triangle?"
   ]
  },
  {
   "cell_type": "code",
   "execution_count": 3,
   "id": "7408fd40",
   "metadata": {},
   "outputs": [
    {
     "name": "stdout",
     "output_type": "stream",
     "text": [
      "By which Method would you like to calculate the Area of Triangle: \n",
      " 1. Area with base and height known or \n",
      " 2. Herons formula- 3 sides of triangle are known: \n",
      "Please type 1 or 2 or Exit:1\n",
      "Please enter the base of triangle: 10\n",
      "Please enter the height of triangle:5\n",
      "The area of triangle is 25.00\n"
     ]
    }
   ],
   "source": [
    "n=input('By which Method would you like to calculate the Area of Triangle: \\n 1. Area with base and height known or \\n 2. Herons formula- 3 sides of triangle are known: \\nPlease type 1 or 2 or Exit:')\n",
    "\n",
    "while (n!='Exit'):\n",
    "  if (n=='1'):\n",
    "    b=int(input('Please enter the base of triangle: '))\n",
    "    h=int(input('Please enter the height of triangle:'))\n",
    "    area=0.5*b*h\n",
    "    print('The area of triangle is %.2f'%(area))\n",
    "    break\n",
    "  elif(n=='2'):\n",
    "    a=int(input('Please enter the side 1:'))\n",
    "    b=int(input('Please enter the side 2:'))\n",
    "    c=int(input('Please enter the side 3:'))\n",
    "    if(((a+b)>c and (a+c)>b and (b+c)>a)==True):\n",
    "      s=(a+b+c)/2\n",
    "      area=(s*(s-a)*(s-b)*(s-c))**0.5\n",
    "      print('The area of triangle is %.2f'%(area))\n",
    "      break\n",
    "    else:\n",
    "      print('Entered sides do not form triangle')\n",
    "      break\n",
    "  else:\n",
    "    n=input('By which Method would you like to calculate the Area of Triangle: \\n 1. Area with base and height known or \\n 2. Herons formula- 3 sides of triangle are known: \\nPlease type 1 or 2 or Exit:')"
   ]
  },
  {
   "cell_type": "markdown",
   "id": "ee33d769",
   "metadata": {},
   "source": [
    "#4. Write a Python program to swap two variables?\n"
   ]
  },
  {
   "cell_type": "code",
   "execution_count": 5,
   "id": "0134bc1c",
   "metadata": {},
   "outputs": [
    {
     "name": "stdout",
     "output_type": "stream",
     "text": [
      "6 5\n"
     ]
    }
   ],
   "source": [
    "a=5\n",
    "b=6\n",
    "a,b=b,a\n",
    "print(a,b)"
   ]
  },
  {
   "cell_type": "markdown",
   "id": "23395dd3",
   "metadata": {},
   "source": [
    "#5. Write a Python program to generate a random number?"
   ]
  },
  {
   "cell_type": "code",
   "execution_count": 6,
   "id": "5c9eb31a",
   "metadata": {},
   "outputs": [
    {
     "name": "stdout",
     "output_type": "stream",
     "text": [
      "0.6923363418971259\n"
     ]
    }
   ],
   "source": [
    "import random\n",
    "x=random.random()\n",
    "print(x)"
   ]
  }
 ],
 "metadata": {
  "kernelspec": {
   "display_name": "Python 3 (ipykernel)",
   "language": "python",
   "name": "python3"
  },
  "language_info": {
   "codemirror_mode": {
    "name": "ipython",
    "version": 3
   },
   "file_extension": ".py",
   "mimetype": "text/x-python",
   "name": "python",
   "nbconvert_exporter": "python",
   "pygments_lexer": "ipython3",
   "version": "3.9.7"
  }
 },
 "nbformat": 4,
 "nbformat_minor": 5
}
