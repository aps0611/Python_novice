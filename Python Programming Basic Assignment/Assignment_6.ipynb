{
 "cells": [
  {
   "cell_type": "markdown",
   "id": "fca1891a",
   "metadata": {},
   "source": [
    "Python Basic Programming Assignment_6"
   ]
  },
  {
   "cell_type": "markdown",
   "id": "10c350ee",
   "metadata": {},
   "source": [
    "# 1.\tWrite a Python Program to Display Fibonacci Sequence Using Recursion?"
   ]
  },
  {
   "cell_type": "code",
   "execution_count": 13,
   "id": "977e0bcc",
   "metadata": {},
   "outputs": [
    {
     "name": "stdout",
     "output_type": "stream",
     "text": [
      "0\n",
      "1\n",
      "1\n",
      "2\n",
      "3\n",
      "5\n",
      "8\n",
      "13\n",
      "21\n",
      "34\n"
     ]
    }
   ],
   "source": [
    "#fibonacci sequence means 0(0) 1(1) 1(2) 2(3) 3(4) 5(5) 8(6) 13(7) 21(8) 34(9) 56(10) and so onn\n",
    "#0 |1 |sum(1)=1|sum(2)\n",
    "\n",
    "def fibo(n):\n",
    "    if n<=1: #base condition\n",
    "        return n\n",
    "    return (fibo(n-1))+(fibo(n-2))\n",
    "\n",
    "n=10\n",
    "for i in range(n):\n",
    "    print(fibo(i))\n",
    "\n",
    "    "
   ]
  },
  {
   "cell_type": "markdown",
   "id": "51cabd2a",
   "metadata": {},
   "source": [
    "# 2.\tWrite a Python Program to Find Factorial of Number Using Recursion?"
   ]
  },
  {
   "cell_type": "code",
   "execution_count": 10,
   "id": "ed401381",
   "metadata": {},
   "outputs": [],
   "source": [
    "#Factorial means 5x4x3x2x1 i.e. fact5 = 5*fact4\n",
    "#fact(n)=n*fact(n-1)\n",
    "\n",
    "def fact(n):\n",
    "    #lets add basic condition\n",
    "    if n==0 or n==1:\n",
    "        return 1\n",
    "    if n>1:\n",
    "        return n*fact(n-1)\n",
    "\n",
    "        \n",
    "    \n"
   ]
  },
  {
   "cell_type": "code",
   "execution_count": 15,
   "id": "f0eca3af",
   "metadata": {},
   "outputs": [
    {
     "data": {
      "text/plain": [
       "24"
      ]
     },
     "execution_count": 15,
     "metadata": {},
     "output_type": "execute_result"
    }
   ],
   "source": [
    "fact(4)"
   ]
  },
  {
   "cell_type": "markdown",
   "id": "cb0a73ce",
   "metadata": {},
   "source": [
    "# 3.\tWrite a Python Program to calculate your Body Mass Index?"
   ]
  },
  {
   "cell_type": "code",
   "execution_count": 17,
   "id": "04138d72",
   "metadata": {},
   "outputs": [
    {
     "name": "stdout",
     "output_type": "stream",
     "text": [
      "Enter the weights in kg: 59\n",
      "Enter the height in m: 5\n",
      "Your BMI is 2.36 \n"
     ]
    }
   ],
   "source": [
    "#BMI formula is w/h*h\n",
    "\n",
    "w=float(input('Enter the weights in kg: '))\n",
    "h=float(input('Enter the height in m: '))\n",
    "bmi= w/(h*h)\n",
    "print('Your BMI is %.2f '%(bmi))"
   ]
  },
  {
   "cell_type": "markdown",
   "id": "dfdc04b5",
   "metadata": {},
   "source": [
    "# 4.\tWrite a Python Program to calculate the natural logarithm of any number?\n"
   ]
  },
  {
   "cell_type": "code",
   "execution_count": 16,
   "id": "811186b9",
   "metadata": {},
   "outputs": [
    {
     "name": "stdout",
     "output_type": "stream",
     "text": [
      "Enter the number: 10\n",
      "log 10 to base e is 2.302585092994046\n"
     ]
    }
   ],
   "source": [
    "import math\n",
    "n=int(input('Enter the number: '))\n",
    "print(f'log {n} to base e is {math.log(n)}')"
   ]
  },
  {
   "cell_type": "code",
   "execution_count": null,
   "id": "f64a2ec1",
   "metadata": {},
   "outputs": [],
   "source": []
  },
  {
   "cell_type": "code",
   "execution_count": null,
   "id": "21e84fa2",
   "metadata": {},
   "outputs": [],
   "source": []
  },
  {
   "cell_type": "markdown",
   "id": "171f222d",
   "metadata": {},
   "source": [
    "# 5.\tWrite a Python Program for cube sum of first n natural numbers?"
   ]
  },
  {
   "cell_type": "code",
   "execution_count": 9,
   "id": "8c1ba510",
   "metadata": {},
   "outputs": [
    {
     "name": "stdout",
     "output_type": "stream",
     "text": [
      "Enter n: 3\n",
      "Cube of sum of first3 natural numbers is 36\n"
     ]
    }
   ],
   "source": [
    "#1*3 + 2*3 + 3*3 + 4*3 + 5*3--------n*3\n",
    "\n",
    "\n",
    "def cube_sum(n):\n",
    "    #base condition:\n",
    "    if n==0:\n",
    "        return 0\n",
    "    if n>=1:\n",
    "        return (n**3)+cube_sum((n-1))\n",
    "\n",
    "n=int(input('Enter n: '))\n",
    "print(f'Cube of sum of first{n} natural numbers is {cube_sum(n)}')"
   ]
  },
  {
   "cell_type": "code",
   "execution_count": 10,
   "id": "9db37a04",
   "metadata": {},
   "outputs": [],
   "source": [
    "#cube_sum(3)"
   ]
  },
  {
   "cell_type": "code",
   "execution_count": null,
   "id": "eddcacee",
   "metadata": {},
   "outputs": [],
   "source": []
  },
  {
   "cell_type": "code",
   "execution_count": null,
   "id": "28a2b573",
   "metadata": {},
   "outputs": [],
   "source": []
  }
 ],
 "metadata": {
  "kernelspec": {
   "display_name": "Python 3 (ipykernel)",
   "language": "python",
   "name": "python3"
  },
  "language_info": {
   "codemirror_mode": {
    "name": "ipython",
    "version": 3
   },
   "file_extension": ".py",
   "mimetype": "text/x-python",
   "name": "python",
   "nbconvert_exporter": "python",
   "pygments_lexer": "ipython3",
   "version": "3.9.7"
  }
 },
 "nbformat": 4,
 "nbformat_minor": 5
}
